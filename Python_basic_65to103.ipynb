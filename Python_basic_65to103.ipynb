{
 "cells": [
  {
   "cell_type": "code",
   "execution_count": 3,
   "id": "7be5a638",
   "metadata": {},
   "outputs": [
    {
     "ename": "AssertionError",
     "evalue": "11 is not a even number",
     "output_type": "error",
     "traceback": [
      "\u001b[0;31m---------------------------------------------------------------------------\u001b[0m",
      "\u001b[0;31mAssertionError\u001b[0m                            Traceback (most recent call last)",
      "\u001b[0;32m/var/folders/m8/1942_3tx5zs36wy7mlbkyssc0000gn/T/ipykernel_1980/2833210639.py\u001b[0m in \u001b[0;36m<module>\u001b[0;34m\u001b[0m\n\u001b[1;32m      3\u001b[0m \u001b[0mtest_list\u001b[0m \u001b[0;34m=\u001b[0m \u001b[0;34m[\u001b[0m\u001b[0;36m2\u001b[0m\u001b[0;34m,\u001b[0m \u001b[0;36m4\u001b[0m\u001b[0;34m,\u001b[0m \u001b[0;36m6\u001b[0m\u001b[0;34m,\u001b[0m \u001b[0;36m8\u001b[0m\u001b[0;34m,\u001b[0m \u001b[0;36m11\u001b[0m\u001b[0;34m]\u001b[0m\u001b[0;34m\u001b[0m\u001b[0;34m\u001b[0m\u001b[0m\n\u001b[1;32m      4\u001b[0m \u001b[0;32mfor\u001b[0m \u001b[0mi\u001b[0m \u001b[0;32min\u001b[0m \u001b[0mtest_list\u001b[0m\u001b[0;34m:\u001b[0m\u001b[0;34m\u001b[0m\u001b[0;34m\u001b[0m\u001b[0m\n\u001b[0;32m----> 5\u001b[0;31m     \u001b[0;32massert\u001b[0m \u001b[0mi\u001b[0m\u001b[0;34m%\u001b[0m\u001b[0;36m2\u001b[0m \u001b[0;34m==\u001b[0m \u001b[0;36m0\u001b[0m\u001b[0;34m,\u001b[0m \u001b[0;34m'{} is not a even number'\u001b[0m\u001b[0;34m.\u001b[0m\u001b[0mformat\u001b[0m\u001b[0;34m(\u001b[0m\u001b[0mi\u001b[0m\u001b[0;34m)\u001b[0m\u001b[0;34m\u001b[0m\u001b[0;34m\u001b[0m\u001b[0m\n\u001b[0m",
      "\u001b[0;31mAssertionError\u001b[0m: 11 is not a even number"
     ]
    }
   ],
   "source": [
    "# 65.1\n",
    "# assert的用法\n",
    "test_list = [2, 4, 6, 8, 11]\n",
    "for i in test_list:\n",
    "    assert i%2 == 0, '{} is not a even number'.format(i)\n",
    "# assert其实就是首先默认，后面跟着的语句是True的\n",
    "# 如果后面的语句返回False，则返回一个错误提示\n",
    "# 错误提示可以通过assert的第二个参数来定义"
   ]
  },
  {
   "cell_type": "code",
   "execution_count": 4,
   "id": "7b743eae",
   "metadata": {},
   "outputs": [
    {
     "name": "stdout",
     "output_type": "stream",
     "text": [
      "2+3\n",
      "5\n"
     ]
    }
   ],
   "source": [
    "# 66.1\n",
    "equaltions = input()\n",
    "print(eval(equaltions))\n",
    "# 感觉用正则表达式也能写，但是eval这个函数可以直接进行公式的读取与输出结果\n",
    "# 估计eval也是用正则表达式写出来的"
   ]
  },
  {
   "cell_type": "code",
   "execution_count": 6,
   "id": "b29c8d53",
   "metadata": {},
   "outputs": [
    {
     "name": "stdout",
     "output_type": "stream",
     "text": [
      "2\n"
     ]
    }
   ],
   "source": [
    "# 67.1\n",
    "class find:\n",
    "    \n",
    "    def __init__(self, lst):\n",
    "        self.lst = lst\n",
    "    \n",
    "    def research(self, element):\n",
    "        index = -1\n",
    "        for i in self.lst:\n",
    "            index += 1\n",
    "            if element == i:\n",
    "                return index\n",
    "            \n",
    "        \n",
    "xunzhao = find([1, 2, 3, 4, 5, 6, 7, 8])\n",
    "print(xunzhao.research(3))"
   ]
  },
  {
   "cell_type": "code",
   "execution_count": 8,
   "id": "9624af07",
   "metadata": {},
   "outputs": [
    {
     "name": "stdout",
     "output_type": "stream",
     "text": [
      "19.331189259216316\n"
     ]
    }
   ],
   "source": [
    "# 68.1\n",
    "import random as rd\n",
    "print(rd.uniform(10, 100))"
   ]
  },
  {
   "cell_type": "code",
   "execution_count": 9,
   "id": "1f32396c",
   "metadata": {},
   "outputs": [],
   "source": [
    "# 69.1\n",
    "# 和上面完全一模一样......"
   ]
  },
  {
   "cell_type": "code",
   "execution_count": 18,
   "id": "522fcb4a",
   "metadata": {},
   "outputs": [
    {
     "name": "stdout",
     "output_type": "stream",
     "text": [
      "6\n"
     ]
    }
   ],
   "source": [
    "# 70.1\n",
    "import random as rd\n",
    "lst = [1, 2, 3, 4, 5, 6, 7, 8]\n",
    "print(rd.choice([i for i in lst if i%2 == 0]))"
   ]
  },
  {
   "cell_type": "code",
   "execution_count": 22,
   "id": "cb6bd74e",
   "metadata": {},
   "outputs": [
    {
     "data": {
      "text/plain": [
       "70"
      ]
     },
     "execution_count": 22,
     "metadata": {},
     "output_type": "execute_result"
    }
   ],
   "source": [
    "# 71.1\n",
    "import random as rd\n",
    "def find_num():\n",
    "    while True:\n",
    "        num = rd.randrange(10, 150)\n",
    "        if num%5 == 0 and num%7 == 0:\n",
    "            return num\n",
    "        \n",
    "find_num()"
   ]
  },
  {
   "cell_type": "code",
   "execution_count": 24,
   "id": "2dcce86f",
   "metadata": {},
   "outputs": [
    {
     "name": "stdout",
     "output_type": "stream",
     "text": [
      "[128, 143, 136, 130, 116]\n"
     ]
    }
   ],
   "source": [
    "# 72.1\n",
    "import random as rd\n",
    "lst = rd.sample(range(100, 201), 5)\n",
    "print(lst)"
   ]
  },
  {
   "cell_type": "code",
   "execution_count": 31,
   "id": "6932a5ac",
   "metadata": {},
   "outputs": [
    {
     "name": "stdout",
     "output_type": "stream",
     "text": [
      "[116, 118, 190, 162, 186]\n"
     ]
    }
   ],
   "source": [
    "# 73.1\n",
    "import random as rd\n",
    "lst = rd.sample(range(100, 201, 2), 5)\n",
    "print(lst)"
   ]
  },
  {
   "cell_type": "code",
   "execution_count": 33,
   "id": "e91b801b",
   "metadata": {},
   "outputs": [
    {
     "name": "stdout",
     "output_type": "stream",
     "text": [
      "[350, 665, 840, 315, 770]\n"
     ]
    }
   ],
   "source": [
    "# 74.1\n",
    "lst = [i for i in range(1, 1000) if i%5 ==0 and i%7 == 0]\n",
    "lst_57 = rd.sample(lst, 5)\n",
    "print(lst_57)"
   ]
  },
  {
   "cell_type": "code",
   "execution_count": 35,
   "id": "3671d6d7",
   "metadata": {},
   "outputs": [
    {
     "name": "stdout",
     "output_type": "stream",
     "text": [
      "15\n"
     ]
    }
   ],
   "source": [
    "# 75.1\n",
    "# random.randrange()是挑一个整数\n",
    "import random as rd\n",
    "num = rd.randrange(7, 16)\n",
    "print(num)"
   ]
  },
  {
   "cell_type": "code",
   "execution_count": 41,
   "id": "e3ed95df",
   "metadata": {},
   "outputs": [
    {
     "name": "stdout",
     "output_type": "stream",
     "text": [
      "b'x\\x9c\\xcbH\\xcd\\xc9\\xc9W(\\xcf/\\xcaIQ\\xcc \\x82\\r\\x00\\xbd[\\x11\\xf5'\n",
      "b'hello world!hello world!hello world!hello world!'\n"
     ]
    }
   ],
   "source": [
    "# 76.1\n",
    "import zlib\n",
    "str1 = \"hello world!hello world!hello world!hello world!\"\n",
    "# TypeError: a bytes-like object is required, not 'str'\n",
    "# 只接受byte\n",
    "str1_new = bytes(str1, 'utf-8')\n",
    "str_compressed = zlib.compress(str1_new)\n",
    "print(str_compressed)\n",
    "print(zlib.decompress(str_compressed))\n",
    "# 压缩必须要在byte层面做\n",
    "# 解压缩则是解成直观的文字\n"
   ]
  },
  {
   "cell_type": "code",
   "execution_count": 43,
   "id": "6a8847b5",
   "metadata": {},
   "outputs": [
    {
     "name": "stdout",
     "output_type": "stream",
     "text": [
      "0.00010991096496582031\n"
     ]
    }
   ],
   "source": [
    "# 77.1\n",
    "# 例题，计时器的用法\n",
    "import time\n",
    "\n",
    "before = time.time()\n",
    "for i in range(100):\n",
    "    x = 1 + 1\n",
    "after = time.time()\n",
    "execution_time = after - before\n",
    "print(execution_time)"
   ]
  },
  {
   "cell_type": "code",
   "execution_count": 44,
   "id": "4c7cf214",
   "metadata": {},
   "outputs": [
    {
     "name": "stdout",
     "output_type": "stream",
     "text": [
      "183\n"
     ]
    }
   ],
   "source": [
    "# 77.2\n",
    "import datetime\n",
    "\n",
    "before = datetime.datetime.now()\n",
    "for i in range(100):\n",
    "    x = 1 + 1\n",
    "after = datetime.datetime.now()\n",
    "execution_time = after - before\n",
    "print(execution_time.microseconds)"
   ]
  },
  {
   "cell_type": "code",
   "execution_count": 48,
   "id": "bfcdff8f",
   "metadata": {},
   "outputs": [
    {
     "name": "stdout",
     "output_type": "stream",
     "text": [
      "[8, 7, 6, 3]\n"
     ]
    }
   ],
   "source": [
    "# 78.1\n",
    "from random import shuffle\n",
    "# 这个函数就是个打乱的函数\n",
    "lst = [3, 6, 7, 8]\n",
    "shuffle(lst)\n",
    "print(lst)"
   ]
  },
  {
   "cell_type": "code",
   "execution_count": 69,
   "id": "2ed9f42b",
   "metadata": {},
   "outputs": [
    {
     "data": {
      "text/plain": [
       "'I Love Hockey'"
      ]
     },
     "execution_count": 69,
     "metadata": {},
     "output_type": "execute_result"
    }
   ],
   "source": [
    "# 79.1\n",
    "import random as rd\n",
    "from random import sample\n",
    "word_lst = [[\"I\", \"You\"], [\"Play\", \"Love\"], [\"Hockey\",\"Football\"]]\n",
    "def str_generator(lst):\n",
    "    out_word = ''\n",
    "    len_of_word = len(word_lst)\n",
    "    index_lst = []\n",
    "    for i in range(len_of_word):\n",
    "        index = rd.randrange(0, 2)\n",
    "        index_lst.append(index)\n",
    "    count = -1\n",
    "    for i in index_lst:\n",
    "        count += 1\n",
    "        word_selected = word_lst[count][i]\n",
    "        if count == 0:\n",
    "            out_word = out_word + word_selected\n",
    "        else:\n",
    "            out_word = out_word + ' ' + word_selected\n",
    "    return out_word\n",
    "\n",
    "str_generator(word_lst)"
   ]
  },
  {
   "cell_type": "code",
   "execution_count": 1,
   "id": "bd3fa465",
   "metadata": {},
   "outputs": [
    {
     "name": "stdout",
     "output_type": "stream",
     "text": [
      "[5, 77, 45]\n"
     ]
    }
   ],
   "source": [
    "# 80.1\n",
    "def remove_even(full_list):\n",
    "    new_list = [i for i in full_list if i%2 != 0]\n",
    "    print(new_list)\n",
    "    \n",
    "    \n",
    "remove_even([5,6,77,45,22,12,24])"
   ]
  },
  {
   "cell_type": "code",
   "execution_count": 23,
   "id": "9e8f750c",
   "metadata": {},
   "outputs": [
    {
     "name": "stdout",
     "output_type": "stream",
     "text": [
      "[12, 24, 88, 120, 155]\n"
     ]
    }
   ],
   "source": [
    "# 81.1\n",
    "def remove_5multi7(full_list):\n",
    "    new_list = [x for x in full_list if x%35 != 0]\n",
    "    print(new_list)\n",
    "    \n",
    "    \n",
    "li = [12,24,35,70,88,120,155]\n",
    "remove_5multi7(li)"
   ]
  },
  {
   "cell_type": "code",
   "execution_count": 31,
   "id": "f0ea9a00",
   "metadata": {},
   "outputs": [
    {
     "name": "stdout",
     "output_type": "stream",
     "text": [
      "[24, 70, 120]\n"
     ]
    }
   ],
   "source": [
    "# 82.1\n",
    "# 注意enumerate函数会返回一个可迭代对象\n",
    "# 可以理解为一个长列表，其中每一个元素都是(index, value)组成的元组\n",
    "def remove_by_index(full_list):\n",
    "    out_lst = []\n",
    "    for (index, value) in enumerate(full_list):\n",
    "        if index%2 != 0 and index <= 6:\n",
    "            out_lst.append(value)\n",
    "    print(out_lst)\n",
    "    \n",
    "    \n",
    "remove_by_index([12,24,35,70,88,120,155])"
   ]
  },
  {
   "cell_type": "code",
   "execution_count": 28,
   "id": "8a7df8f6",
   "metadata": {},
   "outputs": [
    {
     "name": "stdout",
     "output_type": "stream",
     "text": [
      "[24, 70, 120]\n"
     ]
    }
   ],
   "source": [
    "# 82.2\n",
    "li = [12,24,35,70,88,120,155]\n",
    "li = [li[i] for i in range(len(li)) if i%2 != 0 and i <= 6]\n",
    "print(li)"
   ]
  },
  {
   "cell_type": "code",
   "execution_count": 32,
   "id": "e272d51b",
   "metadata": {},
   "outputs": [
    {
     "name": "stdout",
     "output_type": "stream",
     "text": [
      "[24, 70, 120]\n"
     ]
    }
   ],
   "source": [
    "# 82.3\n",
    "orig_lst = [12,24,35,70,88,120,155]\n",
    "indices = [0, 2, 4, 6]\n",
    "\n",
    "new_list = [i for (j, i) in enumerate(orig_lst) if j not in indices]\n",
    "print(new_list)"
   ]
  },
  {
   "cell_type": "code",
   "execution_count": 36,
   "id": "e1e21748",
   "metadata": {},
   "outputs": [
    {
     "name": "stdout",
     "output_type": "stream",
     "text": [
      "[12, 88, 120, 155]\n"
     ]
    }
   ],
   "source": [
    "# 83.1\n",
    "def remove_by_index_num(full_list, star, end):\n",
    "    star_index = star-1\n",
    "    end_index = end-1\n",
    "    out_lst = []\n",
    "    for (index, value) in enumerate(full_list):\n",
    "        if index < star_index or index > end_index:\n",
    "            out_lst.append(value)\n",
    "    print(out_lst)\n",
    "    \n",
    "    \n",
    "remove_by_index_num([12,24,35,70,88,120,155],2 , 4)"
   ]
  },
  {
   "cell_type": "code",
   "execution_count": 37,
   "id": "77f17bdf",
   "metadata": {},
   "outputs": [
    {
     "name": "stdout",
     "output_type": "stream",
     "text": [
      "[[[0, 0, 0, 0, 0, 0, 0, 0], [0, 0, 0, 0, 0, 0, 0, 0], [0, 0, 0, 0, 0, 0, 0, 0], [0, 0, 0, 0, 0, 0, 0, 0], [0, 0, 0, 0, 0, 0, 0, 0]], [[0, 0, 0, 0, 0, 0, 0, 0], [0, 0, 0, 0, 0, 0, 0, 0], [0, 0, 0, 0, 0, 0, 0, 0], [0, 0, 0, 0, 0, 0, 0, 0], [0, 0, 0, 0, 0, 0, 0, 0]], [[0, 0, 0, 0, 0, 0, 0, 0], [0, 0, 0, 0, 0, 0, 0, 0], [0, 0, 0, 0, 0, 0, 0, 0], [0, 0, 0, 0, 0, 0, 0, 0], [0, 0, 0, 0, 0, 0, 0, 0]]]\n"
     ]
    }
   ],
   "source": [
    "# 84.1\n",
    "# 例题\n",
    "# 用列表生成式语法生成一个三维数组\n",
    "# 其实有点像魔方的结构，就是套了三层循环\n",
    "array = [[ [0 for col in range(8)] for col in range(5)] for row in range(3)]\n",
    "print(array)"
   ]
  },
  {
   "cell_type": "code",
   "execution_count": 38,
   "id": "cee459f0",
   "metadata": {},
   "outputs": [
    {
     "name": "stdout",
     "output_type": "stream",
     "text": [
      "[24, 35, 70, 155]\n"
     ]
    }
   ],
   "source": [
    "# 85.1\n",
    "def remove_by_centern_index(full_list, index_list):\n",
    "    out_list = []\n",
    "    for (index, value) in enumerate(full_list):\n",
    "        if index not in index_list:\n",
    "            out_list.append(value)\n",
    "    print(out_list)\n",
    "    \n",
    "    \n",
    "remove_by_centern_index([12,24,35,70,88,120,155], [0, 4, 5])"
   ]
  },
  {
   "cell_type": "code",
   "execution_count": 40,
   "id": "9b5d126d",
   "metadata": {},
   "outputs": [
    {
     "name": "stdout",
     "output_type": "stream",
     "text": [
      "[70, 88, 120, 155]\n"
     ]
    }
   ],
   "source": [
    "# 86.1\n",
    "def remove_by_value(full_list, value):\n",
    "    for i in value:\n",
    "        full_list.remove(i)\n",
    "    print(full_list)\n",
    "    \n",
    "    \n",
    "remove_by_value([12,24,35,70,88,120,155], [12, 24, 35])"
   ]
  },
  {
   "cell_type": "code",
   "execution_count": 43,
   "id": "2c7c41e1",
   "metadata": {},
   "outputs": [
    {
     "name": "stdout",
     "output_type": "stream",
     "text": [
      "[35]\n"
     ]
    }
   ],
   "source": [
    "# 87.1\n",
    "def get_common(lst1, lst2):\n",
    "    all_element = set(lst1+lst2)\n",
    "    out_lst = [i for i in all_element if i in lst1 and i in lst2]\n",
    "    print(out_lst)\n",
    "    \n",
    "    \n",
    "get_common([1,3,6,78,35,55], [12,24,35,24,88,120,155])"
   ]
  },
  {
   "cell_type": "code",
   "execution_count": 44,
   "id": "933f1eb3",
   "metadata": {},
   "outputs": [
    {
     "name": "stdout",
     "output_type": "stream",
     "text": [
      "{35}\n"
     ]
    }
   ],
   "source": [
    "# 87.2\n",
    "list1 = [1,3,6,78,35,55]\n",
    "list2 = [12,24,35,24,88,120,155]\n",
    "set1= set(list1)\n",
    "set2= set(list2)\n",
    "intersection = set.intersection(set1,set2)\n",
    "print(intersection)"
   ]
  },
  {
   "cell_type": "code",
   "execution_count": 45,
   "id": "d276e5d6",
   "metadata": {},
   "outputs": [
    {
     "name": "stdout",
     "output_type": "stream",
     "text": [
      "[12, 35, 24, 88, 120, 155]\n"
     ]
    }
   ],
   "source": [
    "# 88.1\n",
    "# list对象count方法的用法\n",
    "list1 = [12,24,35,24,88,120,155,88,120,155]\n",
    "for i in list1:\n",
    "    if list1.count(i) > 1:\n",
    "        list1.remove(i)\n",
    "print(list1)"
   ]
  },
  {
   "cell_type": "code",
   "execution_count": 56,
   "id": "6918d83a",
   "metadata": {},
   "outputs": [
    {
     "name": "stdout",
     "output_type": "stream",
     "text": [
      "Male\n",
      "Female\n"
     ]
    }
   ],
   "source": [
    "# 89.1\n",
    "class Person():\n",
    "    def getGender(self):\n",
    "        pass\n",
    "    \n",
    "    \n",
    "class Male(Person):\n",
    "    def getGender(self):\n",
    "        print('Male')\n",
    "        \n",
    "        \n",
    "class Female(Person):\n",
    "    def getGender(self):\n",
    "        print('Female')\n",
    "\n",
    "\n",
    "male = Male()\n",
    "female = Female()\n",
    "male.getGender()\n",
    "female.getGender()"
   ]
  },
  {
   "cell_type": "code",
   "execution_count": 15,
   "id": "be918fe6",
   "metadata": {},
   "outputs": [
    {
     "name": "stdout",
     "output_type": "stream",
     "text": [
      "[('d', 1), ('e', 1), ('f', 1), ('g', 1), ('a', 2), ('b', 2), ('c', 2)]\n"
     ]
    }
   ],
   "source": [
    "# 90.1\n",
    "def judge_seq(a_string):\n",
    "    letter_lst = list(a_string)\n",
    "    out_lst = []\n",
    "    for i in letter_lst:\n",
    "        value_seq = (i, letter_lst.count(i))\n",
    "        out_lst.append(value_seq)\n",
    "    for i in out_lst:\n",
    "        if out_lst.count(i) > 1:\n",
    "            out_lst.remove(i)\n",
    "    print(out_lst)\n",
    "        \n",
    "judge_seq('abcdefgabc')"
   ]
  },
  {
   "cell_type": "code",
   "execution_count": null,
   "id": "59395db6",
   "metadata": {},
   "outputs": [],
   "source": [
    "# 90.2\n",
    "# string包的使用方法\n",
    "import string\n",
    "\n",
    "s = input()\n",
    "for letter in string.ascii_lowercase:\n",
    "    cnt = s.count(letter)\n",
    "    if cnt > 0:\n",
    "        print(\"{},{}\".format(letter,cnt))"
   ]
  },
  {
   "cell_type": "code",
   "execution_count": 16,
   "id": "dd7bce34",
   "metadata": {},
   "outputs": [
    {
     "name": "stdout",
     "output_type": "stream",
     "text": [
      "ris etov ot esir\n"
     ]
    }
   ],
   "source": [
    "# 91.1\n",
    "def reversed_string(a_str):\n",
    "    a_str_R = a_str[::-1]\n",
    "    print(a_str_R)\n",
    "    \n",
    "    \n",
    "reversed_string('rise to vote sir')"
   ]
  },
  {
   "cell_type": "code",
   "execution_count": null,
   "id": "0d98ca77",
   "metadata": {},
   "outputs": [],
   "source": [
    "# 91.2\n",
    "# 用reversed函数也是一样的作用\n",
    "s = input()\n",
    "s = ''.join(reversed(s))\n",
    "print(s)"
   ]
  },
  {
   "cell_type": "code",
   "execution_count": 17,
   "id": "097fffb9",
   "metadata": {},
   "outputs": [
    {
     "name": "stdout",
     "output_type": "stream",
     "text": [
      "Helloworld\n"
     ]
    }
   ],
   "source": [
    "# 92.1\n",
    "# 同样是切片操作\n",
    "def print_by_index(a_str):\n",
    "    a_str = a_str[::2]\n",
    "    print(a_str)\n",
    "    \n",
    "    \n",
    "print_by_index('H1e2l3l4o5w6o7r8l9d')"
   ]
  },
  {
   "cell_type": "code",
   "execution_count": 20,
   "id": "be7ba957",
   "metadata": {},
   "outputs": [
    {
     "name": "stdout",
     "output_type": "stream",
     "text": [
      "(1, 2, 3)\n",
      "(1, 3, 2)\n",
      "(2, 1, 3)\n",
      "(2, 3, 1)\n",
      "(3, 1, 2)\n",
      "(3, 2, 1)\n"
     ]
    }
   ],
   "source": [
    "# 93.1\n",
    "# 生成排列组合\n",
    "from itertools import permutations\n",
    "lst = [1, 2, 3]\n",
    "for i in permutations(lst):\n",
    "    print(i)"
   ]
  },
  {
   "cell_type": "code",
   "execution_count": 23,
   "id": "f9a3cc13",
   "metadata": {},
   "outputs": [
    {
     "name": "stdout",
     "output_type": "stream",
     "text": [
      "鸡和兔子数量分别为23,12\n"
     ]
    }
   ],
   "source": [
    "# 94.1\n",
    "# 其实是矩阵求解\n",
    "def rabbit_chicken(heads, legs):\n",
    "    for rab_num in range(1, heads+1):\n",
    "        chick_num = heads-rab_num\n",
    "        all_legs = rab_num*4+chick_num*2\n",
    "        if all_legs == legs:\n",
    "            print('鸡和兔子数量分别为{},{}'.format(str(chick_num), str(rab_num)))\n",
    "        \n",
    "        \n",
    "rabbit_chicken(35, 94)"
   ]
  },
  {
   "cell_type": "code",
   "execution_count": null,
   "id": "fe703d4c",
   "metadata": {},
   "outputs": [],
   "source": [
    "# 94.2\n",
    "# use itertools to solve\n",
    "import itertools\n",
    "\n",
    "def animal_counter(lst):\n",
    "    chickens = 0\t\n",
    "    rabbits = 0\n",
    "    for i in lst:\n",
    "        if i == 2:\n",
    "            chickens += 1\n",
    "        elif i == 4:\n",
    "            rabbits += 1\n",
    "    print(f\"Number of chickens is {chickens}\\nNumber of rabbits is {rabbits}\")\n",
    "\n",
    "\n",
    "def animal_calculator(total_legs, total_heads, legs_of_each_species):\n",
    "    combinations = itertools.combinations_with_replacement(legs_of_each_species, total_heads)\n",
    "    correct_combos = []\n",
    "    for i in list(combinations):\n",
    "        if sum(i) == total_legs:\n",
    "            correct_combos.append(i)\n",
    "    print(correct_combos)\n",
    "    for i in correct_combos:\n",
    "        animal_counter(i)\n",
    "\n",
    "animal_calculator(94, 35, legs_of_each_species=[2,4])"
   ]
  },
  {
   "cell_type": "code",
   "execution_count": 30,
   "id": "04391d4c",
   "metadata": {},
   "outputs": [
    {
     "name": "stdout",
     "output_type": "stream",
     "text": [
      "5\n"
     ]
    }
   ],
   "source": [
    "# 95.1\n",
    "def find_2th(score_list):\n",
    "    score_list = list(map(int, score_list.split(' '))) # 注意这里map的用法\n",
    "    score_list = sorted(set(score_list))\n",
    "    print(score_list[-2])\n",
    "    \n",
    "    \n",
    "find_2th('5 2 3 6 6 5')"
   ]
  },
  {
   "cell_type": "code",
   "execution_count": 31,
   "id": "2a06d0f6",
   "metadata": {},
   "outputs": [
    {
     "data": {
      "text/plain": [
       "['ABCD', 'EFGH', 'IJKL', 'IMNO', 'QRST', 'UVWX', 'YZ']"
      ]
     },
     "execution_count": 31,
     "metadata": {},
     "output_type": "execute_result"
    }
   ],
   "source": [
    "# 96.1\n",
    "# 这功能其实自己用函数也能写，当然用现成的方便很多\n",
    "import textwrap\n",
    "str1 = 'ABCDEFGHIJKLIMNOQRSTUVWXYZ'\n",
    "textwrap.wrap(str1, 4)"
   ]
  },
  {
   "cell_type": "code",
   "execution_count": 77,
   "id": "8dcbccc8",
   "metadata": {
    "scrolled": true
   },
   "outputs": [
    {
     "name": "stdout",
     "output_type": "stream",
     "text": [
      "--------e--------\n",
      "------e-d-e------\n",
      "----e-d-c-d-e----\n",
      "--e-d-c-b-c-d-e--\n",
      "e-d-c-b-a-b-c-d-e\n",
      "e-d-c-b-a-b-c-d-e\n",
      "--e-d-c-b-c-d-e--\n",
      "----e-d-c-d-e----\n",
      "------e-d-e------\n",
      "--------e--------\n"
     ]
    }
   ],
   "source": [
    "# 97.1\n",
    "from string import ascii_lowercase\n",
    "def Rangoli(n):\n",
    "    letter_uesd = ascii_lowercase[0:n]\n",
    "    out_lst = []\n",
    "    for i in range(n):\n",
    "        element_side = '-'*(2*n-2-2*i)\n",
    "        element_mid = str(letter_uesd[n-i-1:])\n",
    "        if i >= 1:\n",
    "            temp = element_mid[1:]\n",
    "            element_mid = temp[::-1] + element_mid\n",
    "        out_str = ''\n",
    "        for index in range(len(element_mid)):\n",
    "            lst = list(element_mid)\n",
    "            if index%2 == 0:\n",
    "                out_str += element_mid[index]\n",
    "            else:\n",
    "                out_str = out_str + '-' + element_mid[index] + '-'\n",
    "        out_lst.append(element_side + out_str + element_side)\n",
    "    temp = reversed(out_lst)\n",
    "    count = 0\n",
    "    for i in temp:\n",
    "        count += 1\n",
    "        if count >= 1:\n",
    "            out_lst.append(i)\n",
    "    for i in out_lst:\n",
    "        print(i)\n",
    "    \n",
    "    \n",
    "Rangoli(5)"
   ]
  },
  {
   "cell_type": "code",
   "execution_count": 90,
   "id": "60f3b00a",
   "metadata": {},
   "outputs": [
    {
     "data": {
      "text/plain": [
       "'Wednesday'"
      ]
     },
     "execution_count": 90,
     "metadata": {},
     "output_type": "execute_result"
    }
   ],
   "source": [
    "# 98.1\n",
    "import calendar\n",
    "month, day, year = '08 05 2015'.split(' ')\n",
    "month = int(month)\n",
    "day = int(day)\n",
    "year = int(year)\n",
    "\n",
    "calendar.day_name[calendar.weekday(year, month, day)]\n",
    "# calendar.weekday(year, month, day)这个默认返回的是一个index\n",
    "# 这里返回值是2，代表的是012第三个，也就是周三"
   ]
  },
  {
   "cell_type": "code",
   "execution_count": 94,
   "id": "0986003f",
   "metadata": {},
   "outputs": [
    {
     "name": "stdout",
     "output_type": "stream",
     "text": [
      "4\n",
      "2 4 5 9\n",
      "4\n",
      "2 4 11 12\n",
      "[5, 9, 11, 12]\n"
     ]
    }
   ],
   "source": [
    "# 99.1\n",
    "# ^可以取出两个数据中不同的地方，在一个中存在而在另一个中不存在\n",
    "def find_differ():\n",
    "    num_of_first = input()\n",
    "    first_row = set(map(int, input().split(' ')))\n",
    "    num_of_second = input()\n",
    "    second_row = set(map(int, input().split(' ')))\n",
    "    print(sorted(list(second_row^first_row)))\n",
    "    \n",
    "    \n",
    "find_differ()  "
   ]
  },
  {
   "cell_type": "code",
   "execution_count": 95,
   "id": "ce018f7d",
   "metadata": {},
   "outputs": [],
   "source": [
    "# 100.1\n",
    "# pass"
   ]
  },
  {
   "cell_type": "code",
   "execution_count": 103,
   "id": "44ae0861",
   "metadata": {},
   "outputs": [
    {
     "name": "stdout",
     "output_type": "stream",
     "text": [
      "aabbbccde\n",
      "{'c': 2, 'a': 2, 'b': 3, 'd': 1, 'e': 1}\n"
     ]
    }
   ],
   "source": [
    "# 101.1\n",
    "def calc_frequency():\n",
    "    str1 = input()\n",
    "    lst1 = list(str1)\n",
    "    fre_dict = {}\n",
    "    \n",
    "    for i in set(lst1):\n",
    "        count = lst1.count(i)\n",
    "        fre_dict[i] = fre_dict.get(i, 0) + count\n",
    "    print(fre_dict)\n",
    "    \n",
    "    \n",
    "calc_frequency()"
   ]
  },
  {
   "cell_type": "code",
   "execution_count": 112,
   "id": "56e0f400",
   "metadata": {},
   "outputs": [
    {
     "name": "stdout",
     "output_type": "stream",
     "text": [
      "6 8\n"
     ]
    }
   ],
   "source": [
    "# 102.1\n",
    "str1 = 'Hello321Bye360'\n",
    "digi = 0\n",
    "alpha = 0\n",
    "for i in str1:\n",
    "    if i.isdigit() == True:\n",
    "        digi += 1\n",
    "    elif i.isalpha() == True:\n",
    "        alpha += 1\n",
    "    else:\n",
    "        pass\n",
    "        \n",
    "print(digi, alpha)"
   ]
  },
  {
   "cell_type": "code",
   "execution_count": 116,
   "id": "b28823f4",
   "metadata": {},
   "outputs": [
    {
     "name": "stdout",
     "output_type": "stream",
     "text": [
      "5\n",
      "15\n"
     ]
    }
   ],
   "source": [
    "# 103.1\n",
    "n = int(input())\n",
    "one_to_n = lambda x:x + one_to_n(x-1) if x > 0 else x\n",
    "print(one_to_n(n))"
   ]
  },
  {
   "cell_type": "code",
   "execution_count": null,
   "id": "4ff5f8c4",
   "metadata": {},
   "outputs": [],
   "source": [
    "#######################################################\n",
    "# END\n",
    "#######################################################"
   ]
  }
 ],
 "metadata": {
  "kernelspec": {
   "display_name": "Python 3 (ipykernel)",
   "language": "python",
   "name": "python3"
  },
  "language_info": {
   "codemirror_mode": {
    "name": "ipython",
    "version": 3
   },
   "file_extension": ".py",
   "mimetype": "text/x-python",
   "name": "python",
   "nbconvert_exporter": "python",
   "pygments_lexer": "ipython3",
   "version": "3.9.13"
  }
 },
 "nbformat": 4,
 "nbformat_minor": 5
}
