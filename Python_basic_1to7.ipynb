{
 "cells": [
  {
   "cell_type": "code",
   "execution_count": 16,
   "id": "362921a7",
   "metadata": {},
   "outputs": [
    {
     "name": "stdout",
     "output_type": "stream",
     "text": [
      "2002,2009,2016,2023,2037,2044,2051,2058,2072,2079,2086,2093,2107,2114,2121,2128,2142,2149,2156,2163,2177,2184,2191,2198,2212,2219,2226,2233,2247,2254,2261,2268,2282,2289,2296,2303,2317,2324,2331,2338,2352,2359,2366,2373,2387,2394,2401,2408,2422,2429,2436,2443,2457,2464,2471,2478,2492,2499,2506,2513,2527,2534,2541,2548,2562,2569,2576,2583,2597,2604,2611,2618,2632,2639,2646,2653,2667,2674,2681,2688,2702,2709,2716,2723,2737,2744,2751,2758,2772,2779,2786,2793,2807,2814,2821,2828,2842,2849,2856,2863,2877,2884,2891,2898,2912,2919,2926,2933,2947,2954,2961,2968,2982,2989,2996,3003,3017,3024,3031,3038,3052,3059,3066,3073,3087,3094,3101,3108,3122,3129,3136,3143,3157,3164,3171,3178,3192,3199,\b\n"
     ]
    }
   ],
   "source": [
    "# 1.1\n",
    "for i in range(2000,3201):\n",
    "    if i%7 == 0 and i%5 != 0:\n",
    "        print(i,end = ',')\n",
    "# \\b == backspace       \n",
    "print('\\b')"
   ]
  },
  {
   "cell_type": "code",
   "execution_count": 15,
   "id": "c7e6ee79",
   "metadata": {},
   "outputs": [
    {
     "name": "stdout",
     "output_type": "stream",
     "text": [
      "2002,2009,2016,2023,2037,2044,2051,2058,2072,2079,2086,2093,2107,2114,2121,2128,2142,2149,2156,2163,2177,2184,2191,2198,2212,2219,2226,2233,2247,2254,2261,2268,2282,2289,2296,2303,2317,2324,2331,2338,2352,2359,2366,2373,2387,2394,2401,2408,2422,2429,2436,2443,2457,2464,2471,2478,2492,2499,2506,2513,2527,2534,2541,2548,2562,2569,2576,2583,2597,2604,2611,2618,2632,2639,2646,2653,2667,2674,2681,2688,2702,2709,2716,2723,2737,2744,2751,2758,2772,2779,2786,2793,2807,2814,2821,2828,2842,2849,2856,2863,2877,2884,2891,2898,2912,2919,2926,2933,2947,2954,2961,2968,2982,2989,2996,3003,3017,3024,3031,3038,3052,3059,3066,3073,3087,3094,3101,3108,3122,3129,3136,3143,3157,3164,3171,3178,3192,3199\n"
     ]
    }
   ],
   "source": [
    "# 1.2\n",
    "# print() argument after * must be an iterable, not int\n",
    "# 此处使用了生成器语法，整个结构是使用*引入一个迭代器，而后这个迭代器是i，之后跟上for i in......对i的取值进行规定\n",
    "print(*(i for i in range(2000,3201) if i%7 ==0 and i%5 != 0),sep = ',')"
   ]
  },
  {
   "cell_type": "code",
   "execution_count": 21,
   "id": "93315350",
   "metadata": {},
   "outputs": [
    {
     "name": "stdout",
     "output_type": "stream",
     "text": [
      "1\n",
      "FUCK U\n"
     ]
    }
   ],
   "source": [
    "# 2.1\n",
    "def fact(n):\n",
    "    result = 1\n",
    "    if n >= 2:\n",
    "        for i in range(1,n+1):\n",
    "            result = result*i\n",
    "        print(result)\n",
    "    else:\n",
    "        print(\"FUCK U\")\n",
    "\n",
    "if __name__=='__main__':\n",
    "    n = int(input())\n",
    "    fact(n)"
   ]
  },
  {
   "cell_type": "code",
   "execution_count": 31,
   "id": "8d318e2f",
   "metadata": {},
   "outputs": [
    {
     "name": "stdout",
     "output_type": "stream",
     "text": [
      "-6\n",
      "是否需要进行绝对值处理？[y/n]N\n",
      "{-6: 36, -5: 25, -4: 16, -3: 9, -2: 4, -1: 1, 0: 0}\n"
     ]
    }
   ],
   "source": [
    "# 3.1\n",
    "def sq(n):\n",
    "    if n <= 0:\n",
    "        require = input('是否需要进行绝对值处理？[y/n]')\n",
    "        if require == 'y' or require == 'Y':\n",
    "            n = -n\n",
    "            sq_dict = {n:n ** 2 for n in range(1,1+n)}\n",
    "            print(sq_dict)\n",
    "        elif require == 'n' or require == 'N':\n",
    "            sq_dict = {n:n ** 2 for n in range(n,1)}\n",
    "            print(sq_dict)\n",
    "        else:\n",
    "            print('error command')\n",
    "    else:\n",
    "        # 此处使用了字典的生成器语法（不过貌似也叫推导式语法）\n",
    "        sq_dict = {n:n ** 2 for n in range(1,n+1)}\n",
    "        print(sq_dict)\n",
    "        \n",
    "if __name__=='__main__':\n",
    "    n = int(input())\n",
    "    sq(n)"
   ]
  },
  {
   "cell_type": "code",
   "execution_count": 1,
   "id": "0440bf1e",
   "metadata": {},
   "outputs": [
    {
     "name": "stdout",
     "output_type": "stream",
     "text": [
      "Number: 2\n",
      "{1: 1, 2: 4}\n"
     ]
    },
    {
     "data": {
      "text/plain": [
       "enumerate"
      ]
     },
     "execution_count": 1,
     "metadata": {},
     "output_type": "execute_result"
    }
   ],
   "source": [
    "# 3.2\n",
    "# 此处enumerate函数是一个遍历函数，参数是可遍历/迭代的对象（列表，字符串等），会返回索引以及对应的键值\n",
    "# 第二个参数1则是从第一个开始\n",
    "num = int(input(\"Number: \"))\n",
    "print(dict(enumerate([i*i for i in range(1, num+1)], 1)))\n",
    "# 做一个小测验\n",
    "a = enumerate([i*i for i in range(1, 7)], 1)\n",
    "type(a)\n",
    "# 返回的是一个enumerate类型的对象"
   ]
  },
  {
   "cell_type": "code",
   "execution_count": 15,
   "id": "b8568fb8",
   "metadata": {},
   "outputs": [
    {
     "name": "stdout",
     "output_type": "stream",
     "text": [
      "请输入一串以逗号分隔的数字：1,2,3\n",
      "[1, 2, 3]\n",
      "(1, 2, 3)\n"
     ]
    }
   ],
   "source": [
    "# 4.1\n",
    "# 在本题中，使用到了split这个针对字符串进行切片的方法，要注意的是，splict方法返回的对象是一个列表\n",
    "# 在python中input返回的对象是一个字符串\n",
    "string_input = input('请输入一串以逗号分隔的数字：')\n",
    "# value_split = split(string_input,',')\n",
    "# 要注意的是，本题中使用到的splict是一个方法，所以上面注释中的使用方式是错误的\n",
    "value_split = string_input.split(',')\n",
    "lst_int = []\n",
    "for i in value_split:\n",
    "    i_int = int(i)\n",
    "    lst_int.append(i_int)\n",
    "lst = lst_int\n",
    "tup = tuple(lst)\n",
    "print(lst)\n",
    "print(tup)"
   ]
  },
  {
   "cell_type": "code",
   "execution_count": 31,
   "id": "ebcc6f4c",
   "metadata": {},
   "outputs": [
    {
     "name": "stdout",
     "output_type": "stream",
     "text": [
      "输入一串字符串作为str1：weqr\n",
      "weqr\n",
      "WEQR\n"
     ]
    }
   ],
   "source": [
    "# 5.1\n",
    "# class其实就是也一些个相似的属性以及方法的集合\n",
    "# 对于class中定义的函数，必须要加入self这么一个固定的参数\n",
    "# 关于为何class自身不能作为实例，大概可以如此理解：class自身的名字（如String_Tools）已经用于定义class了，在实际的代码运算中\n",
    "# 如果再使用相同的名字作为实例，那么势必会造成混乱\n",
    "# 使用self参数也较好理解，这个参数的含义便是已经定义了class实例，可以对函数进行触发\n",
    "class String_Tools:\n",
    "    \n",
    "    def getString(self):\n",
    "        str1 = input('输入一串字符串：')\n",
    "        self.s = str1\n",
    "        print(self.s)\n",
    "        \n",
    "    def printString(self):\n",
    "        print(self.s.upper())\n",
    "        \n",
    "        \n",
    "stringtool = String_Tools()\n",
    "stringtool.getString()\n",
    "stringtool.printString()"
   ]
  },
  {
   "cell_type": "code",
   "execution_count": 40,
   "id": "35dd93f4",
   "metadata": {},
   "outputs": [
    {
     "name": "stdout",
     "output_type": "stream",
     "text": [
      "请输入一串以逗号分隔的数字：100,150\n",
      "请输入希望结果保留的数位：4\n",
      "保留 4 位小数结果: [18.2574, 22.3607]\n"
     ]
    }
   ],
   "source": [
    "# 6.1\n",
    "import math\n",
    "\n",
    "c = 50\n",
    "h = 30\n",
    "\n",
    "\n",
    "def cacl(D_value,round_count):\n",
    "    D_split = D_value.split(',')\n",
    "    lst_float = []\n",
    "\n",
    "    for i in D_split:\n",
    "        i_float = float(i)\n",
    "        lst_float.append(i_float)\n",
    "    lst = lst_float\n",
    "    \n",
    "    Q_lst = list(round(math.sqrt(2*c*d/h),round_count) for d in lst)\n",
    "    print('保留',round_count,'位小数结果:',Q_lst)\n",
    "    \n",
    "    \n",
    "if __name__=='__main__':\n",
    "    D_input = input('请输入一串以逗号分隔的数字：')\n",
    "    count = int(input('请输入希望结果保留的数位：'))\n",
    "    cacl(D_input,count)"
   ]
  },
  {
   "cell_type": "code",
   "execution_count": 85,
   "id": "0b8f487c",
   "metadata": {
    "scrolled": true
   },
   "outputs": [
    {
     "name": "stdout",
     "output_type": "stream",
     "text": [
      "请输入需要的行列值：2,6\n",
      "[[0, 0, 0, 0, 0, 0], [0, 1, 2, 3, 4, 5]]\n"
     ]
    }
   ],
   "source": [
    "# 7.1\n",
    "# 此题除了使用循环嵌套意外，还可以使用生成器的方法来解决\n",
    "# x,y = map(int,input().split(','))\n",
    "# 在这里其实是将列表作为新的列表的一个元素\n",
    "# lst = [[i*j for j in range(y)] for i in range(x)]\n",
    "# print(lst)\n",
    "def ij_array(number_lst):\n",
    "    x = number_lst[0]\n",
    "    y = number_lst[1]\n",
    "    lst_out = []\n",
    "    \n",
    "    for i in range(x):\n",
    "        lst_tmp1 = []\n",
    "        for j in range(y):\n",
    "            lst_tmp1.append(i*j)\n",
    "        lst_out.append(lst_tmp1)\n",
    "    print(lst_out)\n",
    "    \n",
    "    \n",
    "def number_input(number):\n",
    "    number_split = number.split(',')\n",
    "    lst_int = []\n",
    "\n",
    "    for i in number_split:\n",
    "        i_int = int(i)\n",
    "        lst_int.append(i_int)\n",
    "    lst = lst_int\n",
    "    return lst\n",
    "    \n",
    "\n",
    "if __name__=='__main__':\n",
    "    number_lst = number_input(input('请输入需要的行列值：'))\n",
    "    ij_array(number_lst)"
   ]
  },
  {
   "cell_type": "code",
   "execution_count": null,
   "id": "9a5f6ce7",
   "metadata": {},
   "outputs": [],
   "source": []
  },
  {
   "cell_type": "code",
   "execution_count": null,
   "id": "05d99a3a",
   "metadata": {},
   "outputs": [],
   "source": []
  }
 ],
 "metadata": {
  "kernelspec": {
   "display_name": "Python 3 (ipykernel)",
   "language": "python",
   "name": "python3"
  },
  "language_info": {
   "codemirror_mode": {
    "name": "ipython",
    "version": 3
   },
   "file_extension": ".py",
   "mimetype": "text/x-python",
   "name": "python",
   "nbconvert_exporter": "python",
   "pygments_lexer": "ipython3",
   "version": "3.9.13"
  }
 },
 "nbformat": 4,
 "nbformat_minor": 5
}
