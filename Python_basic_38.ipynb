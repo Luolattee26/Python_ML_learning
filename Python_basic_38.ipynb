{
 "cells": [
  {
   "cell_type": "code",
   "execution_count": 7,
   "id": "aa620021",
   "metadata": {},
   "outputs": [
    {
     "name": "stdout",
     "output_type": "stream",
     "text": [
      "(1, 2, 3, 4, 5)\n",
      "(6, 7, 8, 9, 10)\n"
     ]
    }
   ],
   "source": [
    "# 38.1\n",
    "class sanshiba:\n",
    "    \n",
    "    def __init__(self, n):\n",
    "        lst1 = [n for n in range(n+1)]\n",
    "        tup1 = tuple(lst1)\n",
    "        tuple_1 = tup1[1:6]\n",
    "        tuple_2 = tup1[6:]\n",
    "        print(tuple_1)\n",
    "        print(tuple_2)\n",
    "        \n",
    "        \n",
    "if __name__ == '__main__':\n",
    "    class1 = sanshiba(10)"
   ]
  },
  {
   "cell_type": "code",
   "execution_count": 13,
   "id": "0e01dd94",
   "metadata": {},
   "outputs": [
    {
     "name": "stdout",
     "output_type": "stream",
     "text": [
      "{0, 2, 4, 6, 8, 10, 12, 14, 16, 18, 20}\n"
     ]
    }
   ],
   "source": [
    "# 39.1\n",
    "def tupple(a_n):\n",
    "    lst1 = [i for i in range(a_n+1)]\n",
    "    tuple1 = tuple(lst1)\n",
    "    return tuple1\n",
    "\n",
    "\n",
    "def judge(a_tuple):\n",
    "    lst2 = []\n",
    "    for i in a_tuple:\n",
    "        if i%2 == 0:\n",
    "            lst2.append(i)\n",
    "    print(set(lst2))\n",
    "    \n",
    "    \n",
    "if __name__ == '__main__':\n",
    "    tup1 = tupple(20)\n",
    "    judge(tup1)\n",
    "\n",
    "\n"
   ]
  },
  {
   "cell_type": "code",
   "execution_count": 14,
   "id": "17701087",
   "metadata": {},
   "outputs": [
    {
     "name": "stdout",
     "output_type": "stream",
     "text": [
      "请输入相应的字符串yes\n",
      "Yes\n"
     ]
    }
   ],
   "source": [
    "# 40.1\n",
    "def judge():\n",
    "    str1 = input('请输入相应的字符串')\n",
    "    if str1 == \"Yes\" or str1 == \"yes\" or str1 == \"YES\":\n",
    "        print('Yes')\n",
    "    else:\n",
    "        print('NO')\n",
    "        \n",
    "        \n",
    "if __name__ == '__main__':\n",
    "    judge()"
   ]
  },
  {
   "cell_type": "code",
   "execution_count": 18,
   "id": "8788ba14",
   "metadata": {},
   "outputs": [
    {
     "name": "stdout",
     "output_type": "stream",
     "text": [
      "请输入要计算的数字20\n",
      "[0, 1, 4, 9, 16, 25, 36, 49, 64, 81, 100, 121, 144, 169, 196, 225, 256, 289, 324, 361, 400]\n"
     ]
    }
   ],
   "source": [
    "# 41.1\n",
    "def num_lst(a_num):\n",
    "    lst1 = [i for i in range(int(a_num)+1)]\n",
    "    return lst1\n",
    "\n",
    "\n",
    "def square(a_list):\n",
    "    new_lst = list(map(lambda x:x**2, a_list))\n",
    "    print(new_lst)\n",
    "    \n",
    "    \n",
    "if __name__ == '__main__':\n",
    "    lst1 = num_lst(input('请输入要计算的数字'))\n",
    "    square(lst1)"
   ]
  },
  {
   "cell_type": "code",
   "execution_count": 21,
   "id": "c9808250",
   "metadata": {},
   "outputs": [
    {
     "name": "stdout",
     "output_type": "stream",
     "text": [
      "请输入要计算的数字20\n",
      "[0, 4, 16, 36, 64, 100, 144, 196, 256, 324, 400]\n"
     ]
    }
   ],
   "source": [
    "# 42.1\n",
    "def num_lst(a_num):\n",
    "    lst1 = [i for i in range(int(a_num)+1)]\n",
    "    return lst1\n",
    "\n",
    "\n",
    "def is_even(n):\n",
    "    return n%2 == 0\n",
    "    \n",
    "\n",
    "def square(a_list):\n",
    "    new_lst = list(map(lambda x:x**2, list(filter(is_even, a_list))))\n",
    "    print(new_lst)\n",
    "    \n",
    "    \n",
    "if __name__ == '__main__':\n",
    "    lst1 = num_lst(input('请输入要计算的数字'))\n",
    "    square(lst1)"
   ]
  },
  {
   "cell_type": "code",
   "execution_count": 22,
   "id": "ccfc1576",
   "metadata": {},
   "outputs": [
    {
     "name": "stdout",
     "output_type": "stream",
     "text": [
      "请输入要计算的数字20\n",
      "[0, 2, 4, 6, 8, 10, 12, 14, 16, 18, 20]\n"
     ]
    }
   ],
   "source": [
    "# 43.1\n",
    "def num_lst(a_num):\n",
    "    lst1 = [i for i in range(int(a_num)+1)]\n",
    "    return lst1\n",
    "\n",
    "\n",
    "def judge_print(a_lst):\n",
    "    print(list(filter(lambda x:x%2 == 0, a_lst)))\n",
    "    \n",
    "    \n",
    "if __name__ == '__main__':\n",
    "    lst1 = num_lst(input('请输入要计算的数字'))\n",
    "    judge_print(lst1)   "
   ]
  },
  {
   "cell_type": "code",
   "execution_count": 4,
   "id": "36596fc3",
   "metadata": {},
   "outputs": [
    {
     "name": "stdout",
     "output_type": "stream",
     "text": [
      "[1, 4, 9, 16, 25, 36, 49, 64, 81, 100, 121, 144, 169, 196, 225, 256, 289, 324, 361, 400]\n"
     ]
    }
   ],
   "source": [
    "# 44.1\n",
    "def square():\n",
    "    lst1 = list(map(lambda x:x**2, range(1, 21)))\n",
    "    print(lst1)\n",
    "    \n",
    "    \n",
    "if __name__ == '__main__':\n",
    "    square()"
   ]
  },
  {
   "cell_type": "code",
   "execution_count": 23,
   "id": "0bcae36f",
   "metadata": {},
   "outputs": [
    {
     "name": "stdout",
     "output_type": "stream",
     "text": [
      "I am American\n"
     ]
    },
    {
     "ename": "TypeError",
     "evalue": "printNationality() missing 1 required positional argument: 'self'",
     "output_type": "error",
     "traceback": [
      "\u001b[0;31m---------------------------------------------------------------------------\u001b[0m",
      "\u001b[0;31mTypeError\u001b[0m                                 Traceback (most recent call last)",
      "\u001b[0;32m/var/folders/m8/1942_3tx5zs36wy7mlbkyssc0000gn/T/ipykernel_83684/361924869.py\u001b[0m in \u001b[0;36m<module>\u001b[0;34m\u001b[0m\n\u001b[1;32m     16\u001b[0m                             \u001b[0;31m# Because the class has no instance.没有实例\u001b[0m\u001b[0;34m\u001b[0m\u001b[0;34m\u001b[0m\u001b[0m\n\u001b[1;32m     17\u001b[0m \u001b[0;34m\u001b[0m\u001b[0m\n\u001b[0;32m---> 18\u001b[0;31m \u001b[0mAmerican\u001b[0m\u001b[0;34m.\u001b[0m\u001b[0mprintNationality\u001b[0m\u001b[0;34m(\u001b[0m\u001b[0;34m)\u001b[0m  \u001b[0;31m# this will run even though the @staticmethod does not decorate printNationality()\u001b[0m\u001b[0;34m\u001b[0m\u001b[0;34m\u001b[0m\u001b[0m\n\u001b[0m\u001b[1;32m     19\u001b[0m \u001b[0;34m\u001b[0m\u001b[0m\n",
      "\u001b[0;31mTypeError\u001b[0m: printNationality() missing 1 required positional argument: 'self'"
     ]
    }
   ],
   "source": [
    "# 45.1\n",
    "# 完全不会，例题，@staticmethod/静态方法\n",
    "# 在python中，一般来说class调用方法要先实例化，但是使用@staticmethod/@classmethod就可以不进行实例化直接class.function()\n",
    "# @staticmethod不需要表示自身对象的self和自身类的cls参数，就跟使用函数一样\n",
    "# @classmethod也不需要self参数，但第一个参数需要是表示自身类的cls参数\n",
    "# 如果在@staticmethod中要调用到这个类的一些属性方法，只能直接类名.属性名或类名.方法名\n",
    "# 而@classmethod因为持有cls参数，可以来调用类的属性，类的方法，实例化对象等，避免硬编码\n",
    "# 两者区别详见下面的45.2\n",
    "class American:\n",
    "    @staticmethod\n",
    "    def printNationality(): # 注意看，这里并没有写self\n",
    "        print(\"I am American\")\n",
    "\n",
    "american = American()\n",
    "american.printNationality()  # this will not run if @staticmethod does not decorates the function.\n",
    "                            # Because the class has no instance.没有实例\n",
    "\n",
    "American.printNationality()  # this will run even though the @staticmethod does not decorate printNationality()\n",
    "                             # 如果在printNationality()中写了self，，并且删去@staticmethod，则上面能运行而下面的不行\n",
    "                             # 因为上面的进行了实例化，整个类已经被传入了american这个实例中，而下面的并不是实例化\n",
    "                            # 而且也并没有@staticmethod进行装饰\n"
   ]
  },
  {
   "cell_type": "code",
   "execution_count": 7,
   "id": "9ed08eb3",
   "metadata": {},
   "outputs": [
    {
     "name": "stdout",
     "output_type": "stream",
     "text": [
      "static_foo\n",
      "1\n",
      "class_foo\n",
      "1\n",
      "foo\n"
     ]
    }
   ],
   "source": [
    "# 45.2\n",
    "# @classmethod会用来写一些只在class中运行的方法\n",
    "class A():  \n",
    "    bar = 1  \n",
    "    def foo(self):  \n",
    "        print ('foo')\n",
    "\n",
    "    @staticmethod  \n",
    "    def static_foo():  \n",
    "        print ('static_foo')\n",
    "        print(A.bar)\n",
    "\n",
    "    @classmethod  \n",
    "    def class_foo(cls):  \n",
    "        print ('class_foo')\n",
    "        print (cls.bar)\n",
    "        cls().foo()  \n",
    "\n",
    "A.static_foo()  \n",
    "A.class_foo()  \n"
   ]
  },
  {
   "cell_type": "code",
   "execution_count": 11,
   "id": "ef2c6222",
   "metadata": {},
   "outputs": [
    {
     "name": "stdout",
     "output_type": "stream",
     "text": [
      "<__main__.American object at 0x7fba15ff1820>\n",
      "<__main__.NewYorker object at 0x7fba15ff1d90>\n"
     ]
    }
   ],
   "source": [
    "# 46.1\n",
    "# 完全不会，例题，子类的定义和用法\n",
    "# 示例详见46.2\n",
    "class American():\n",
    "    pass\n",
    "\n",
    "class NewYorker(American):\n",
    "    pass\n",
    "\n",
    "american = American()\n",
    "newyorker = NewYorker()\n",
    "\n",
    "print(american) # <__main__.American object at 0x7fba15ff1820>\n",
    "print(newyorker) # <__main__.NewYorker object at 0x7fba15ff1d90>"
   ]
  },
  {
   "cell_type": "code",
   "execution_count": 12,
   "id": "77ec97fc",
   "metadata": {},
   "outputs": [
    {
     "name": "stdout",
     "output_type": "stream",
     "text": [
      "4 3\n",
      "1\n"
     ]
    }
   ],
   "source": [
    "# 46.2\n",
    "# 子类可以通过super()函数来调用父类中的方法\n",
    "class Adam():\n",
    "    def __init__(self, a, c):\n",
    "        self.a = a\n",
    "        self.c = c\n",
    "\n",
    "class SGD(Adam):\n",
    "    def __init__(self, a, c):\n",
    "        self.b = 1 # 定义一个子类独有的属性b\n",
    "        super(SGD, self).__init__(a, c) # 用super()调用父类的__init__，将两个ac值进行赋值\n",
    "\n",
    "    def print_1(self):\n",
    "        print(self.c, self.a) # 子类中并没有这两个属性的赋值语句，但是依然能打印出来，因为上面的super()调用\n",
    "        print(self.b) # 在上面进行了子类特有的赋值，能打印出来很正常\n",
    "\n",
    "sgd = SGD(3, 4) # 这里传入了a，c两个参数进子类\n",
    "sgd.print_1()\n"
   ]
  },
  {
   "cell_type": "code",
   "execution_count": 5,
   "id": "f0332a70",
   "metadata": {},
   "outputs": [
    {
     "name": "stdout",
     "output_type": "stream",
     "text": [
      "78.53999999999999\n"
     ]
    }
   ],
   "source": [
    "# 47.1\n",
    "class Circle:\n",
    "    \n",
    "    def __init__(self, r):\n",
    "        self.radius = r\n",
    "      \n",
    "    def area(self):\n",
    "        return self.radius**2*3.1416\n",
    "    \n",
    "    \n",
    "if __name__ == '__main__':\n",
    "    circle = Circle(5)\n",
    "    print(circle.area())"
   ]
  },
  {
   "cell_type": "code",
   "execution_count": 13,
   "id": "b47fe917",
   "metadata": {},
   "outputs": [
    {
     "name": "stdout",
     "output_type": "stream",
     "text": [
      "12\n"
     ]
    }
   ],
   "source": [
    "# 48.1\n",
    "class Rectangle:\n",
    "    \n",
    "    def __init__(self, a, b):\n",
    "        self.length = a\n",
    "        self.width = b\n",
    "    \n",
    "    def area(self):\n",
    "        print(self.length*self.width)\n",
    "        \n",
    "        \n",
    "if __name__ == '__main__':\n",
    "    Rectangle1 = Rectangle(3,4)\n",
    "    Rectangle1.area()"
   ]
  },
  {
   "cell_type": "code",
   "execution_count": 32,
   "id": "fbf60bbc",
   "metadata": {},
   "outputs": [
    {
     "name": "stdout",
     "output_type": "stream",
     "text": [
      "25\n",
      "0\n",
      "test1\n"
     ]
    }
   ],
   "source": [
    "# 49.1\n",
    "class shape:\n",
    "    \n",
    "    def __init__(self):\n",
    "        pass\n",
    "    \n",
    "    def area(self):\n",
    "        print('test1')\n",
    "        return 0\n",
    "\n",
    "    \n",
    "class square(shape):\n",
    "    \n",
    "    def __init__(self, l = 0):\n",
    "        super(square, self).__init__() # 调用父类中进行的__init__赋值，当然在这里并没有什么用处\n",
    "        self.length = l\n",
    "        \n",
    "    def area(self):\n",
    "        print(self.length**2)\n",
    "        \n",
    "        \n",
    "if __name__ == '__main__':\n",
    "    Asqr = square(5) # 对子类进行了实例化，而父类并没有实例化\n",
    "    Asqr.area()\n",
    "    square().area() # 与下一句是同样的道理\n",
    "    shape().area() # 可以发现这里同样可以运行，尽管并没有进行实例化，参考#45中的例子"
   ]
  },
  {
   "cell_type": "code",
   "execution_count": 35,
   "id": "dc76227a",
   "metadata": {},
   "outputs": [
    {
     "ename": "RuntimeError",
     "evalue": "戳啦",
     "output_type": "error",
     "traceback": [
      "\u001b[0;31m---------------------------------------------------------------------------\u001b[0m",
      "\u001b[0;31mRuntimeError\u001b[0m                              Traceback (most recent call last)",
      "\u001b[0;32m/var/folders/m8/1942_3tx5zs36wy7mlbkyssc0000gn/T/ipykernel_83684/3232061878.py\u001b[0m in \u001b[0;36m<module>\u001b[0;34m\u001b[0m\n\u001b[1;32m      2\u001b[0m \u001b[0;31m# 例题，提出RuntimeError异常\u001b[0m\u001b[0;34m\u001b[0m\u001b[0;34m\u001b[0m\u001b[0m\n\u001b[1;32m      3\u001b[0m \u001b[0;31m# 其实就是返回个异常文本\u001b[0m\u001b[0;34m\u001b[0m\u001b[0;34m\u001b[0m\u001b[0m\n\u001b[0;32m----> 4\u001b[0;31m \u001b[0;32mraise\u001b[0m \u001b[0mRuntimeError\u001b[0m\u001b[0;34m(\u001b[0m\u001b[0;34m'戳啦'\u001b[0m\u001b[0;34m)\u001b[0m\u001b[0;34m\u001b[0m\u001b[0;34m\u001b[0m\u001b[0m\n\u001b[0m",
      "\u001b[0;31mRuntimeError\u001b[0m: 戳啦"
     ]
    }
   ],
   "source": [
    "# 50.1\n",
    "# 例题，提出RuntimeError异常\n",
    "# 其实就是返回个异常文本\n",
    "raise RuntimeError('戳啦')"
   ]
  },
  {
   "cell_type": "code",
   "execution_count": null,
   "id": "3068d78d",
   "metadata": {},
   "outputs": [],
   "source": []
  },
  {
   "cell_type": "code",
   "execution_count": null,
   "id": "6a3e2fab",
   "metadata": {},
   "outputs": [],
   "source": []
  },
  {
   "cell_type": "code",
   "execution_count": null,
   "id": "37f028c8",
   "metadata": {},
   "outputs": [],
   "source": []
  },
  {
   "cell_type": "code",
   "execution_count": null,
   "id": "7ac7405f",
   "metadata": {},
   "outputs": [],
   "source": []
  },
  {
   "cell_type": "code",
   "execution_count": null,
   "id": "01238690",
   "metadata": {},
   "outputs": [],
   "source": []
  },
  {
   "cell_type": "code",
   "execution_count": null,
   "id": "2041c870",
   "metadata": {},
   "outputs": [],
   "source": []
  },
  {
   "cell_type": "code",
   "execution_count": null,
   "id": "054eccd2",
   "metadata": {},
   "outputs": [],
   "source": []
  },
  {
   "cell_type": "code",
   "execution_count": null,
   "id": "eeb3fe8a",
   "metadata": {},
   "outputs": [],
   "source": []
  },
  {
   "cell_type": "code",
   "execution_count": null,
   "id": "f57fd5ef",
   "metadata": {},
   "outputs": [],
   "source": []
  },
  {
   "cell_type": "code",
   "execution_count": null,
   "id": "9385a7d9",
   "metadata": {},
   "outputs": [],
   "source": []
  },
  {
   "cell_type": "code",
   "execution_count": null,
   "id": "f4a00b2b",
   "metadata": {},
   "outputs": [],
   "source": []
  },
  {
   "cell_type": "code",
   "execution_count": null,
   "id": "15c27cff",
   "metadata": {},
   "outputs": [],
   "source": []
  },
  {
   "cell_type": "code",
   "execution_count": null,
   "id": "2e590124",
   "metadata": {},
   "outputs": [],
   "source": []
  },
  {
   "cell_type": "code",
   "execution_count": null,
   "id": "a6c36e52",
   "metadata": {},
   "outputs": [],
   "source": []
  },
  {
   "cell_type": "code",
   "execution_count": null,
   "id": "186cf186",
   "metadata": {},
   "outputs": [],
   "source": []
  },
  {
   "cell_type": "code",
   "execution_count": null,
   "id": "913bd746",
   "metadata": {},
   "outputs": [],
   "source": []
  }
 ],
 "metadata": {
  "kernelspec": {
   "display_name": "Python 3 (ipykernel)",
   "language": "python",
   "name": "python3"
  },
  "language_info": {
   "codemirror_mode": {
    "name": "ipython",
    "version": 3
   },
   "file_extension": ".py",
   "mimetype": "text/x-python",
   "name": "python",
   "nbconvert_exporter": "python",
   "pygments_lexer": "ipython3",
   "version": "3.9.13"
  }
 },
 "nbformat": 4,
 "nbformat_minor": 5
}
