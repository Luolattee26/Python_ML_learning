{
 "cells": [
  {
   "cell_type": "code",
   "execution_count": 7,
   "id": "aa620021",
   "metadata": {},
   "outputs": [
    {
     "name": "stdout",
     "output_type": "stream",
     "text": [
      "(1, 2, 3, 4, 5)\n",
      "(6, 7, 8, 9, 10)\n"
     ]
    }
   ],
   "source": [
    "# 38.1\n",
    "class sanshiba:\n",
    "    \n",
    "    def __init__(self, n):\n",
    "        lst1 = [n for n in range(n+1)]\n",
    "        tup1 = tuple(lst1)\n",
    "        tuple_1 = tup1[1:6]\n",
    "        tuple_2 = tup1[6:]\n",
    "        print(tuple_1)\n",
    "        print(tuple_2)\n",
    "        \n",
    "        \n",
    "if __name__ == '__main__':\n",
    "    class1 = sanshiba(10)"
   ]
  },
  {
   "cell_type": "code",
   "execution_count": 13,
   "id": "0e01dd94",
   "metadata": {},
   "outputs": [
    {
     "name": "stdout",
     "output_type": "stream",
     "text": [
      "{0, 2, 4, 6, 8, 10, 12, 14, 16, 18, 20}\n"
     ]
    }
   ],
   "source": [
    "# 39.1\n",
    "def tupple(a_n):\n",
    "    lst1 = [i for i in range(a_n+1)]\n",
    "    tuple1 = tuple(lst1)\n",
    "    return tuple1\n",
    "\n",
    "\n",
    "def judge(a_tuple):\n",
    "    lst2 = []\n",
    "    for i in a_tuple:\n",
    "        if i%2 == 0:\n",
    "            lst2.append(i)\n",
    "    print(set(lst2))\n",
    "    \n",
    "    \n",
    "if __name__ == '__main__':\n",
    "    tup1 = tupple(20)\n",
    "    judge(tup1)\n",
    "\n",
    "\n"
   ]
  },
  {
   "cell_type": "code",
   "execution_count": 14,
   "id": "17701087",
   "metadata": {},
   "outputs": [
    {
     "name": "stdout",
     "output_type": "stream",
     "text": [
      "请输入相应的字符串yes\n",
      "Yes\n"
     ]
    }
   ],
   "source": [
    "# 40.1\n",
    "def judge():\n",
    "    str1 = input('请输入相应的字符串')\n",
    "    if str1 == \"Yes\" or str1 == \"yes\" or str1 == \"YES\":\n",
    "        print('Yes')\n",
    "    else:\n",
    "        print('NO')\n",
    "        \n",
    "        \n",
    "if __name__ == '__main__':\n",
    "    judge()"
   ]
  },
  {
   "cell_type": "code",
   "execution_count": 18,
   "id": "8788ba14",
   "metadata": {},
   "outputs": [
    {
     "name": "stdout",
     "output_type": "stream",
     "text": [
      "请输入要计算的数字20\n",
      "[0, 1, 4, 9, 16, 25, 36, 49, 64, 81, 100, 121, 144, 169, 196, 225, 256, 289, 324, 361, 400]\n"
     ]
    }
   ],
   "source": [
    "# 41.1\n",
    "def num_lst(a_num):\n",
    "    lst1 = [i for i in range(int(a_num)+1)]\n",
    "    return lst1\n",
    "\n",
    "\n",
    "def square(a_list):\n",
    "    new_lst = list(map(lambda x:x**2, a_list))\n",
    "    print(new_lst)\n",
    "    \n",
    "    \n",
    "if __name__ == '__main__':\n",
    "    lst1 = num_lst(input('请输入要计算的数字'))\n",
    "    square(lst1)"
   ]
  },
  {
   "cell_type": "code",
   "execution_count": 21,
   "id": "c9808250",
   "metadata": {},
   "outputs": [
    {
     "name": "stdout",
     "output_type": "stream",
     "text": [
      "请输入要计算的数字20\n",
      "[0, 4, 16, 36, 64, 100, 144, 196, 256, 324, 400]\n"
     ]
    }
   ],
   "source": [
    "# 42.1\n",
    "def num_lst(a_num):\n",
    "    lst1 = [i for i in range(int(a_num)+1)]\n",
    "    return lst1\n",
    "\n",
    "\n",
    "def is_even(n):\n",
    "    return n%2 == 0\n",
    "    \n",
    "\n",
    "def square(a_list):\n",
    "    new_lst = list(map(lambda x:x**2, list(filter(is_even, a_list))))\n",
    "    print(new_lst)\n",
    "    \n",
    "    \n",
    "if __name__ == '__main__':\n",
    "    lst1 = num_lst(input('请输入要计算的数字'))\n",
    "    square(lst1)"
   ]
  },
  {
   "cell_type": "code",
   "execution_count": 22,
   "id": "ccfc1576",
   "metadata": {},
   "outputs": [
    {
     "name": "stdout",
     "output_type": "stream",
     "text": [
      "请输入要计算的数字20\n",
      "[0, 2, 4, 6, 8, 10, 12, 14, 16, 18, 20]\n"
     ]
    }
   ],
   "source": [
    "# 43.1\n",
    "def num_lst(a_num):\n",
    "    lst1 = [i for i in range(int(a_num)+1)]\n",
    "    return lst1\n",
    "\n",
    "\n",
    "def judge_print(a_lst):\n",
    "    print(list(filter(lambda x:x%2 == 0, a_lst)))\n",
    "    \n",
    "    \n",
    "if __name__ == '__main__':\n",
    "    lst1 = num_lst(input('请输入要计算的数字'))\n",
    "    judge_print(lst1)   "
   ]
  },
  {
   "cell_type": "code",
   "execution_count": null,
   "id": "36596fc3",
   "metadata": {},
   "outputs": [],
   "source": []
  }
 ],
 "metadata": {
  "kernelspec": {
   "display_name": "Python 3 (ipykernel)",
   "language": "python",
   "name": "python3"
  },
  "language_info": {
   "codemirror_mode": {
    "name": "ipython",
    "version": 3
   },
   "file_extension": ".py",
   "mimetype": "text/x-python",
   "name": "python",
   "nbconvert_exporter": "python",
   "pygments_lexer": "ipython3",
   "version": "3.9.13"
  }
 },
 "nbformat": 4,
 "nbformat_minor": 5
}
