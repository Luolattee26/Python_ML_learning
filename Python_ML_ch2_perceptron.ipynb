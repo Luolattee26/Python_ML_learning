{
 "cells": [
  {
   "cell_type": "code",
   "execution_count": 2,
   "id": "c4eae0ab",
   "metadata": {
    "ExecuteTime": {
     "end_time": "2023-03-21T07:15:08.013822Z",
     "start_time": "2023-03-21T07:15:08.000558Z"
    }
   },
   "outputs": [],
   "source": [
    "# 2.1\n",
    "# Minsky 与 Papert 指出：感知机因为是线性模型，所以不能表示复杂的函数，如异或 (XOR)。验证感知机为什么不能表示异或。"
   ]
  },
  {
   "cell_type": "code",
   "execution_count": 3,
   "id": "112a19bb",
   "metadata": {
    "ExecuteTime": {
     "end_time": "2023-03-21T07:38:58.461413Z",
     "start_time": "2023-03-21T07:38:58.186191Z"
    }
   },
   "outputs": [
    {
     "name": "stdout",
     "output_type": "stream",
     "text": [
      "   x1  x2  y\n",
      "0   0   0 -1\n",
      "1   1   0  1\n",
      "2   0   1  1\n",
      "3   1   1 -1\n"
     ]
    },
    {
     "data": {
      "text/plain": [
       "<matplotlib.legend.Legend at 0x27221ca0e50>"
      ]
     },
     "execution_count": 3,
     "metadata": {},
     "output_type": "execute_result"
    },
    {
     "data": {
      "image/png": "[encoded data removed]",
      "text/plain": [
       "<Figure size 640x480 with 1 Axes>"
      ]
     },
     "metadata": {},
     "output_type": "display_data"
    }
   ],
   "source": [
    "# 2.1.1\n",
    "# 使用图例法证明异或问题是线性不可分的\n",
    "import numpy as np\n",
    "import pandas as pd\n",
    "import matplotlib.pyplot as plt\n",
    "\n",
    "# 构建矩阵\n",
    "x1 = np.array([0, 1, 0, 1])\n",
    "x2 = np.array([0, 0, 1, 1])\n",
    "y = np.array([-1, 1, 1, -1])\n",
    "# 注意这种矩阵列合并的方式，要把合并的元素放在一个list中\n",
    "data = np.c_[x1, x2, y]\n",
    "df = pd.DataFrame(data, columns = ['x1', 'x2', 'y'])\n",
    "print(df)\n",
    "\n",
    "# 画图\n",
    "# 设置坐标轴\n",
    "plt.xlim(-0.5, 1.5)\n",
    "plt.ylim(-0.5, 1.5)\n",
    "plt.xticks([-0.5, 0, 1, 1.5]) # 这是在设置坐标轴刻度，可以发现要传入的参数是一个list\n",
    "plt.yticks([-0.5, 0, 1, 1.5])\n",
    "plt.xlabel('x1')\n",
    "plt.ylabel('x2')\n",
    "# 获得正负分类点\n",
    "negtive = df.loc[df['y'] == -1]\n",
    "positive = df.loc[df['y'] == 1]\n",
    "# 在图里面画出来\n",
    "plt.plot(negtive['x1'], negtive['x2'], 'ro') # 第三个参数表示要画什么样的图\n",
    "plt.plot(positive['x1'], positive['x2'], 'bx')\n",
    "# 标上图例\n",
    "plt.legend(['negtive', 'positive'])\n",
    "\n",
    "\n",
    "# 这样通过画出训练集样本点的图，可以发现这些样本是完全找不到一个超平面来完全分开的，所以证明，异或问题是不能用感知机来处理的"
   ]
  },
  {
   "cell_type": "code",
   "execution_count": 4,
   "id": "7c065bcd",
   "metadata": {
    "ExecuteTime": {
     "end_time": "2023-03-21T07:49:17.785446Z",
     "start_time": "2023-03-21T07:49:17.767992Z"
    }
   },
   "outputs": [
    {
     "name": "stdout",
     "output_type": "stream",
     "text": [
      "W_hat [0. 0.] b_hat 0.0\n"
     ]
    }
   ],
   "source": [
    "# 2.1.2\n",
    "# 使用sklearn的Perceptron类构建感知机模型，从模型的参数上观察，感知机模型无法表示异或\n",
    "from sklearn.linear_model import Perceptron\n",
    "import numpy as np\n",
    "\n",
    "# 构建训练集\n",
    "x_train = np.array([[0, 0], [1, 0], [0, 1], [1, 1]])\n",
    "y = np.array([-1, 1, 1, -1])\n",
    "\n",
    "# train model\n",
    "perceptron_model = Perceptron()\n",
    "perceptron_model.fit(x_train, y) # 这个训练方式还是很符合直觉的\n",
    "\n",
    "# 输出训练结果\n",
    "print('W_hat', perceptron_model.coef_[0], 'b_hat', perceptron_model.intercept_[0])\n",
    "\n",
    "\n",
    "# 可以发现，训练出来的模型参数全部是0，显然这模型是没训练出来"
   ]
  },
  {
   "cell_type": "code",
   "execution_count": 5,
   "id": "de403c52",
   "metadata": {
    "ExecuteTime": {
     "end_time": "2023-03-21T07:51:58.587927Z",
     "start_time": "2023-03-21T07:51:58.580190Z"
    }
   },
   "outputs": [],
   "source": [
    "# 2.2\n",
    "# 模仿例题 2.1，构建从训练数据求解感知机模型的例子。\n",
    "# 其实就是仿照上面sklearn中的Perceptron，自己手动写一个出来"
   ]
  },
  {
   "cell_type": "code",
   "execution_count": 56,
   "id": "fb6f37e9",
   "metadata": {
    "ExecuteTime": {
     "end_time": "2023-03-21T08:40:42.037076Z",
     "start_time": "2023-03-21T08:40:42.006179Z"
    }
   },
   "outputs": [],
   "source": [
    "# 2.2.1\n",
    "import numpy as np\n",
    "import matplotlib.pyplot as plt\n",
    "\n",
    "\n",
    "class Perceptron:\n",
    "    def __init__(self, x, y, lr = 0.01, plot = True):\n",
    "        \"\"\"\n",
    "        初始化感知机\n",
    "        X，Y：训练集\n",
    "        lr：学习步长\n",
    "        plot：是否绘图以及显示迭代情况\n",
    "        \"\"\"\n",
    "        self.x = x\n",
    "        self.y = y\n",
    "        self.lr = lr\n",
    "        self.plot = plot\n",
    "        if plot:\n",
    "            self.__model_plot = self._ModelPlot(self.x, self.y)\n",
    "            self.__model_plot.open_in()\n",
    "        \n",
    "    def fit_model(self):\n",
    "        # 初始化w/b两个参数\n",
    "        weight = np.zeros(self.x.shape[1]) # 保持与x的维数一致\n",
    "        b = 0\n",
    "        # 训练次数\n",
    "        train_counts = 0\n",
    "        # 是否存在误分类\n",
    "        mistake = True\n",
    "        while mistake:\n",
    "            # 要设置回不存在误分类\n",
    "            mistake = False\n",
    "            # 从训练集中取出数据看是不是误分类点\n",
    "            for index in range(self.x.shape[0]): # 这里就是代表训练集数据点的个数了\n",
    "                if self.plot:\n",
    "                    self.__model_plot.plot(weight, b, train_counts)\n",
    "                # 损失函数\n",
    "                loss = self.y[index] * (weight @ self.x[index] + b) # 注意这里，点乘用@\n",
    "                if loss <= 0:\n",
    "                    # 自然，我们需要更新weight和b\n",
    "                    weight += self.lr * self.x[index] * self.y[index]\n",
    "                    b += self.lr * self.y[index]\n",
    "                    train_counts += 1\n",
    "                    print('Epoch{},weight={},b={},formula:{}'.format(train_counts, weight, b, self.__model_plot.formula(weight, b)))\n",
    "                    mistake = True\n",
    "                    \n",
    "        if self.plot:\n",
    "            self.__model_plot.close()\n",
    "        return weight, b\n",
    "        \n",
    "    class _ModelPlot:\n",
    "        def __init__(self, x, y):\n",
    "            self.x = x\n",
    "            self.y = y\n",
    "            \n",
    "        @staticmethod\n",
    "        def open_in():\n",
    "            # 打开交互模式，可以展示动态的交互图\n",
    "            plt.ion()\n",
    "            \n",
    "        @staticmethod\n",
    "        def close():\n",
    "            # 关闭交互模式，并且展示最终的图\n",
    "            plt.ioff()\n",
    "            plt.show()\n",
    "                \n",
    "        def plot(self, weight, b, epoch):\n",
    "            plt.cla() # 清屏，我们这里要的只是迭代到最优的一个超平面\n",
    "            # 设置xy轴的范围，注意这个技巧\n",
    "            plt.xlim(0, np.max(self.x.T[0] + 1))\n",
    "            plt.ylim(0, np.max(self.x.T[1] + 1))\n",
    "            # 画出散点图，添加图示\n",
    "            scatter = plt.scatter(self.x.T[0], self.x.T[1], c = self.y)\n",
    "            plt.legend(*scatter.legend_elements())\n",
    "            # 上面的*，是表示可迭代对象的解包操作，因为我们生成的scatter其实是一个可迭代对象，通过*就可以很优雅的把其中的信息解压出来\n",
    "            # 这个if的意思就是如果没有迭代出来，全是0\n",
    "            if True in list(weight == 0):\n",
    "                plt.plot(0, 0)\n",
    "            else:\n",
    "                # 超平面的两个端点\n",
    "                x1 = -b / weight[0]\n",
    "                x2 = -b / weight[1]\n",
    "                plt.plot([x1, 0], [0, x2])\n",
    "                # 把公式也加上去\n",
    "                text = self.formula(weight, b)\n",
    "                plt.text(0.3, x2 - 0.2, text) # 这个函数用法很简单，就是单纯的横坐标纵坐标和内容\n",
    "                    \n",
    "        @staticmethod        \n",
    "        def formula(weight, b):\n",
    "            text = 'x1' if weight[0] == 1 else '%d*x1' % weight[0]\n",
    "            text += '+x2' if weight[1] == 1 else ('+%d*x2' % weight[1] if weight[1] > 0 else '-%d*x2' % -weight[1])\n",
    "            text += '=0' if b == 0 else ('+%d=0' % b if b > 0 else '-%d=0' % -b)\n",
    "            return text"
   ]
  },
  {
   "cell_type": "code",
   "execution_count": 57,
   "id": "1e29d925",
   "metadata": {
    "ExecuteTime": {
     "end_time": "2023-03-21T08:40:43.528277Z",
     "start_time": "2023-03-21T08:40:42.717197Z"
    }
   },
   "outputs": [
    {
     "name": "stdout",
     "output_type": "stream",
     "text": [
      "Epoch1,weight=[3. 3.],b=1,formula:3*x1+3*x2+1=0\n",
      "Epoch2,weight=[2. 2.],b=0,formula:2*x1+2*x2=0\n",
      "Epoch3,weight=[1. 1.],b=-1,formula:x1+x2-1=0\n",
      "Epoch4,weight=[0. 0.],b=-2,formula:0*x1-0*x2-2=0\n",
      "Epoch5,weight=[3. 3.],b=-1,formula:3*x1+3*x2-1=0\n",
      "Epoch6,weight=[2. 2.],b=-2,formula:2*x1+2*x2-2=0\n",
      "Epoch7,weight=[1. 1.],b=-3,formula:x1+x2-3=0\n"
     ]
    },
    {
     "data": {
      "image/png": "[encoded data removed]",
      "text/plain": [
       "<Figure size 640x480 with 1 Axes>"
      ]
     },
     "metadata": {},
     "output_type": "display_data"
    }
   ],
   "source": [
    "X = np.array([[3, 3], [4, 3], [1, 1]])\n",
    "Y = np.array([1, 1, -1])\n",
    "model = Perceptron(X, Y, lr = 1)\n",
    "weight, b = model.fit_model()"
   ]
  },
  {
   "cell_type": "code",
   "execution_count": null,
   "id": "20fa3b29",
   "metadata": {
    "ExecuteTime": {
     "end_time": "2023-03-21T08:38:15.309307Z",
     "start_time": "2023-03-21T08:38:11.863999Z"
    }
   },
   "outputs": [],
   "source": []
  }
 ],
 "metadata": {
  "kernelspec": {
   "display_name": "Python 3 (ipykernel)",
   "language": "python",
   "name": "python3"
  },
  "language_info": {
   "codemirror_mode": {
    "name": "ipython",
    "version": 3
   },
   "file_extension": ".py",
   "mimetype": "text/x-python",
   "name": "python",
   "nbconvert_exporter": "python",
   "pygments_lexer": "ipython3",
   "version": "3.9.13"
  }
 },
 "nbformat": 4,
 "nbformat_minor": 5
}
