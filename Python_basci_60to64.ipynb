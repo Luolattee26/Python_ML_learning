{
 "cells": [
  {
   "cell_type": "code",
   "execution_count": 2,
   "id": "e7b280f5",
   "metadata": {},
   "outputs": [
    {
     "name": "stdout",
     "output_type": "stream",
     "text": [
      "5\n",
      "500\n"
     ]
    }
   ],
   "source": [
    "# 60.1\n",
    "def f(n):\n",
    "    if n == 0:\n",
    "        return 0\n",
    "    else:\n",
    "        return f(n-1)+100\n",
    "    \n",
    "    \n",
    "print(f(int(input())))"
   ]
  },
  {
   "cell_type": "code",
   "execution_count": 6,
   "id": "7286c9ce",
   "metadata": {},
   "outputs": [
    {
     "name": "stdout",
     "output_type": "stream",
     "text": [
      "0\n"
     ]
    },
    {
     "data": {
      "text/plain": [
       "0"
      ]
     },
     "execution_count": 6,
     "metadata": {},
     "output_type": "execute_result"
    }
   ],
   "source": [
    "# 61.1\n",
    "n = int(input())\n",
    "Fib = lambda x: Fib(x-1)+Fib(x-2) if x>1 else x\n",
    "Fib(n)"
   ]
  },
  {
   "cell_type": "code",
   "execution_count": 9,
   "id": "56e0a07b",
   "metadata": {},
   "outputs": [
    {
     "name": "stdout",
     "output_type": "stream",
     "text": [
      "10\n",
      "[0, 1, 1, 2, 3, 5, 8, 13, 21, 34, 55]\n"
     ]
    }
   ],
   "source": [
    "# 62.1\n",
    "n = int(input())\n",
    "def f(n):\n",
    "    if n <= 1:\n",
    "        return n\n",
    "    else:\n",
    "        return f(n-1)+f(n-2)\n",
    "lst = [f(n) for n in range(0, n+1)]\n",
    "print(lst)"
   ]
  },
  {
   "cell_type": "code",
   "execution_count": 16,
   "id": "d2f7d73f",
   "metadata": {},
   "outputs": [
    {
     "name": "stdout",
     "output_type": "stream",
     "text": [
      "9\n",
      "[0, 2, 4, 6, 8]\n"
     ]
    }
   ],
   "source": [
    "# 63.1\n",
    "def even(n):\n",
    "    num_count = 0\n",
    "    while num_count <= n:\n",
    "        if num_count%2 == 0:\n",
    "            yield num_count\n",
    "        num_count += 1\n",
    "    \n",
    "\n",
    "out_lst = []    \n",
    "for i in even(int(input())):\n",
    "    out_lst.append(i)\n",
    "print(out_lst)"
   ]
  },
  {
   "cell_type": "code",
   "execution_count": 19,
   "id": "85a5ba7a",
   "metadata": {},
   "outputs": [
    {
     "name": "stdout",
     "output_type": "stream",
     "text": [
      "200\n",
      "[35, 70, 105, 140, 175]\n"
     ]
    }
   ],
   "source": [
    "# 64.1\n",
    "def five_seven(n):\n",
    "    num_count = 1\n",
    "    while num_count <= n:\n",
    "        if num_count%5 == 0 and num_count%7 == 0:\n",
    "            yield num_count\n",
    "        num_count += 1\n",
    "    \n",
    "\n",
    "out_lst = []    \n",
    "for i in five_seven(int(input())):\n",
    "    out_lst.append(i)\n",
    "print(out_lst)"
   ]
  },
  {
   "cell_type": "code",
   "execution_count": null,
   "id": "6ff3f0c3",
   "metadata": {},
   "outputs": [],
   "source": []
  }
 ],
 "metadata": {
  "kernelspec": {
   "display_name": "Python 3 (ipykernel)",
   "language": "python",
   "name": "python3"
  },
  "language_info": {
   "codemirror_mode": {
    "name": "ipython",
    "version": 3
   },
   "file_extension": ".py",
   "mimetype": "text/x-python",
   "name": "python",
   "nbconvert_exporter": "python",
   "pygments_lexer": "ipython3",
   "version": "3.9.13"
  }
 },
 "nbformat": 4,
 "nbformat_minor": 5
}
