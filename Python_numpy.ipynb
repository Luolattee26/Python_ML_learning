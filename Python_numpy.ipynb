{
 "cells": [
  {
   "cell_type": "code",
   "execution_count": 57,
   "id": "331f8e52",
   "metadata": {},
   "outputs": [],
   "source": [
    "import numpy as np"
   ]
  },
  {
   "cell_type": "code",
   "execution_count": 3,
   "id": "a49c1bf2",
   "metadata": {},
   "outputs": [
    {
     "name": "stdout",
     "output_type": "stream",
     "text": [
      "[[1 3 5]\n",
      " [4 6 9]]\n"
     ]
    }
   ],
   "source": [
    "# 1.1列表转换为矩阵\n",
    "array = np.array([\n",
    "    [1, 3, 5],\n",
    "    [4, 6, 9]\n",
    "])\n",
    "# 其实就是把一个以列表为元素的列表转换了一下\n",
    "print(array)"
   ]
  },
  {
   "cell_type": "code",
   "execution_count": 4,
   "id": "3c6fe7fc",
   "metadata": {},
   "outputs": [
    {
     "name": "stdout",
     "output_type": "stream",
     "text": [
      "2\n"
     ]
    }
   ],
   "source": [
    "print(array.ndim) # 打印row，其实就是原来的列表有多少个元素"
   ]
  },
  {
   "cell_type": "code",
   "execution_count": 5,
   "id": "c8d6e4b5",
   "metadata": {},
   "outputs": [
    {
     "name": "stdout",
     "output_type": "stream",
     "text": [
      "(2, 3)\n"
     ]
    }
   ],
   "source": [
    "print(array.shape) # dim(m, n)"
   ]
  },
  {
   "cell_type": "code",
   "execution_count": 6,
   "id": "47f0f5f3",
   "metadata": {},
   "outputs": [
    {
     "name": "stdout",
     "output_type": "stream",
     "text": [
      "6\n"
     ]
    }
   ],
   "source": [
    "print(array.size) # size,2*3"
   ]
  },
  {
   "cell_type": "code",
   "execution_count": 7,
   "id": "c0218ce4",
   "metadata": {},
   "outputs": [
    {
     "name": "stdout",
     "output_type": "stream",
     "text": [
      "[ 2 23  4]\n",
      "int32\n"
     ]
    }
   ],
   "source": [
    "# 2.1创建array\n",
    "array = np.array([2, 23, 4], dtype = np.int32) # 表示数字类型是32位int\n",
    "print(array)\n",
    "print(array.dtype)"
   ]
  },
  {
   "cell_type": "code",
   "execution_count": 9,
   "id": "0af325dc",
   "metadata": {},
   "outputs": [
    {
     "name": "stdout",
     "output_type": "stream",
     "text": [
      "[[1 2 3]\n",
      " [4 5 6]]\n"
     ]
    }
   ],
   "source": [
    "array = np.array([\n",
    "    [1, 2, 3],\n",
    "    [4, 5, 6]\n",
    "])\n",
    "print(array) # 多维数组的创建"
   ]
  },
  {
   "cell_type": "code",
   "execution_count": 13,
   "id": "bfa26663",
   "metadata": {},
   "outputs": [
    {
     "name": "stdout",
     "output_type": "stream",
     "text": [
      "[[0. 0. 0. 0.]\n",
      " [0. 0. 0. 0.]\n",
      " [0. 0. 0. 0.]]\n",
      "[[1 1 1 1]\n",
      " [1 1 1 1]\n",
      " [1 1 1 1]] int64\n"
     ]
    }
   ],
   "source": [
    "a = np.zeros((3, 4))\n",
    "print(a) # 创造全0的多维数组\n",
    "b = np.ones((3, 4), dtype = int)\n",
    "print(b, b.dtype) # 全1多维数组，默认int是int64"
   ]
  },
  {
   "cell_type": "code",
   "execution_count": 16,
   "id": "1d0bab23",
   "metadata": {},
   "outputs": [
    {
     "name": "stdout",
     "output_type": "stream",
     "text": [
      "[[0. 0. 0. 0.]\n",
      " [0. 0. 0. 0.]\n",
      " [0. 0. 0. 0.]]\n"
     ]
    }
   ],
   "source": [
    "a = np.empty((3, 4))\n",
    "print(a) # 这里其实不是0，是接近0的很小的数字"
   ]
  },
  {
   "cell_type": "code",
   "execution_count": 18,
   "id": "5f990705",
   "metadata": {},
   "outputs": [
    {
     "name": "stdout",
     "output_type": "stream",
     "text": [
      "[10 12 14 16 18 20]\n",
      "[[10 12 14]\n",
      " [16 18 20]]\n"
     ]
    }
   ],
   "source": [
    "a = np.arange(10, 21, 2) # 用arange这个函数有点像列表生成式\n",
    "print(a)\n",
    "b = a.reshape((2, 3)) # 用reshape方法，可以自动生成相应形状的多维数组\n",
    "print(b)"
   ]
  },
  {
   "cell_type": "code",
   "execution_count": 19,
   "id": "71f4da6a",
   "metadata": {},
   "outputs": [
    {
     "name": "stdout",
     "output_type": "stream",
     "text": [
      "[ 1.          1.47368421  1.94736842  2.42105263  2.89473684  3.36842105\n",
      "  3.84210526  4.31578947  4.78947368  5.26315789  5.73684211  6.21052632\n",
      "  6.68421053  7.15789474  7.63157895  8.10526316  8.57894737  9.05263158\n",
      "  9.52631579 10.        ]\n",
      "[[ 1.          1.47368421  1.94736842  2.42105263  2.89473684]\n",
      " [ 3.36842105  3.84210526  4.31578947  4.78947368  5.26315789]\n",
      " [ 5.73684211  6.21052632  6.68421053  7.15789474  7.63157895]\n",
      " [ 8.10526316  8.57894737  9.05263158  9.52631579 10.        ]]\n"
     ]
    }
   ],
   "source": [
    "a = np.linspace(1, 10, 20)\n",
    "print(a) # 这里是生成了类似刻度的数据，1到10，20个，与前面的empty很相似，不是完全从1开始，而是一个很接近1的数字\n",
    "b = a.reshape((4, 5))\n",
    "print(b)"
   ]
  },
  {
   "cell_type": "code",
   "execution_count": 7,
   "id": "68d6a1b3",
   "metadata": {},
   "outputs": [
    {
     "name": "stdout",
     "output_type": "stream",
     "text": [
      "[1 2 3 4] [0 1 2 3]\n",
      "[1 1 1 1]\n",
      "[ 0  2  6 12]\n",
      "20\n"
     ]
    }
   ],
   "source": [
    "# 3.1numpy的基本运算\n",
    "import numpy as np\n",
    "a = np.array([1, 2, 3, 4])\n",
    "b = np.arange(4)\n",
    "print(a, b)\n",
    "print(a-b) # 和矩阵运算是非常相似的\n",
    "print(a*b) # 乘法这个地方和矩阵乘法完全不一样，数组的乘法是对应元素直接相乘，有点像坐标的意思\n",
    "print(a.dot(b)) # 这里就是将各个元素相乘然后相加，其实就是一个点乘的意思"
   ]
  },
  {
   "cell_type": "code",
   "execution_count": 13,
   "id": "2c3e2d59",
   "metadata": {},
   "outputs": [
    {
     "name": "stdout",
     "output_type": "stream",
     "text": [
      "[0 1 4 9]\n",
      "[0.         0.84147098 0.90929743 0.14112001]\n",
      "[ True  True False False]\n",
      "[False False False False]\n"
     ]
    }
   ],
   "source": [
    "print(b**2) # 与普通运算相同的乘方操作\n",
    "print(np.sin(b)) # 求sin函数\n",
    "print(b < 2) # 这些逻辑符的运算和R里面几乎是一模一样的\n",
    "print(a == b)"
   ]
  },
  {
   "cell_type": "code",
   "execution_count": 19,
   "id": "0b90b6c6",
   "metadata": {},
   "outputs": [
    {
     "name": "stdout",
     "output_type": "stream",
     "text": [
      "[[1 2]\n",
      " [3 4]]\n",
      "[[0 1]\n",
      " [2 3]]\n",
      "[[ 0  2]\n",
      " [ 6 12]]\n",
      "[[ 4  7]\n",
      " [ 8 15]]\n",
      "[[ 4  7]\n",
      " [ 8 15]]\n"
     ]
    }
   ],
   "source": [
    "# 一维的数组乘法，仍然是按照简单的对点相乘的方法来做的\n",
    "# 而多维数组的乘法，就是按照矩阵乘法来计算了\n",
    "a = np.array([\n",
    "    [1, 2],\n",
    "    [3, 4]\n",
    "])\n",
    "b = np.arange(4).reshape((2,2))\n",
    "print(a)\n",
    "print(b)\n",
    "# 对于多维数组来说，不能直接像一维数组那样使用*来进行乘法运算\n",
    "# 必须要使用dot方法\n",
    "print(a*b) # 这样就会直接变成对应元素相乘\n",
    "# 下面这两种才是按照矩阵乘法来计算的\n",
    "print(a.dot(b)) \n",
    "print(np.dot(a, b))"
   ]
  },
  {
   "cell_type": "code",
   "execution_count": 27,
   "id": "06aa6e5f",
   "metadata": {},
   "outputs": [
    {
     "name": "stdout",
     "output_type": "stream",
     "text": [
      "[[0.65193336 0.07833837 0.87774705 0.14666669]\n",
      " [0.65478461 0.7486479  0.9526649  0.04076186]]\n",
      "4.151544741397214\n",
      "0.04076185973036073\n",
      "0.9526648989882135\n",
      "[0.65193336 0.07833837 0.87774705 0.04076186]\n",
      "[1.75468547 2.39685927]\n"
     ]
    }
   ],
   "source": [
    "a = np.random.random((2,4)) # random也是np里面的一个module\n",
    "# 这里和单纯的random module不一样，在np中的random输入的参数是定义了生成数组的shape\n",
    "print(a) # 所以这里是一个2*4的矩阵\n",
    "print(np.sum(a))\n",
    "print(np.min(a))\n",
    "print(np.max(a))\n",
    "# 上述三个函数都能添加一个参数axis，axis = 1为按行寻找目标，axis = 0是按列寻找目标\n",
    "print(np.min(a, axis = 0)) # 可以看到，这里出现了四个返回值，说明是按列寻找的\n",
    "print(np.sum(a, axis = 1))"
   ]
  },
  {
   "cell_type": "code",
   "execution_count": 37,
   "id": "16474714",
   "metadata": {},
   "outputs": [
    {
     "name": "stdout",
     "output_type": "stream",
     "text": [
      "[[ 2  3  4  5]\n",
      " [ 6  7  8  9]\n",
      " [10 11 12 13]]\n",
      "0\n",
      "11\n",
      "7.5\n",
      "[ 2  5  9 14 20 27 35 44 54 65 77 90]\n",
      "[[1 1 1]\n",
      " [1 1 1]\n",
      " [1 1 1]]\n",
      "(array([0, 0, 0, 0, 1, 1, 1, 1, 2, 2, 2, 2]), array([0, 1, 2, 3, 0, 1, 2, 3, 0, 1, 2, 3]))\n"
     ]
    }
   ],
   "source": [
    "a = np.arange(2, 14).reshape(3, 4)\n",
    "print(a)\n",
    "print(np.argmin(a)) # 打印最小元素的index，可以发现，python里面矩阵实质上还是一个list\n",
    "print(np.argmax(a))\n",
    "print(a.mean())\n",
    "print(a.cumsum()) # 累加函数\n",
    "print(np.diff(a)) # 这与累加函数不太一样，关注的是相邻两个元素的差值，可以发现输出元素降维了"
   ]
  },
  {
   "cell_type": "code",
   "execution_count": 41,
   "id": "a715cd5f",
   "metadata": {},
   "outputs": [
    {
     "name": "stdout",
     "output_type": "stream",
     "text": [
      "[[ 0  5  9]\n",
      " [ 4  0 10]]\n",
      "(array([0, 0, 1, 1]), array([1, 2, 0, 2]))\n"
     ]
    }
   ],
   "source": [
    "C = np.array([[0,5,9],\n",
    "              [4,0,10]])\n",
    "print(C)\n",
    "print(np.nonzero(C))\n",
    "# nozero函数的结果比较抽象，返回的是两个数组，第一个数组表示row_index，第二个表示col_index\n",
    "# 比如在此处，(array([0, 0, 1, 1]), array([1, 2, 0, 2]))\n",
    "# 要前后两个结合起来看，组合起来才是一个非0元素的index\n",
    "# 比如这里四个非零元素，组合一下坐标分别是(0,1)(0,2)(1,0)(1,2)"
   ]
  },
  {
   "cell_type": "code",
   "execution_count": 49,
   "id": "3ca5dea5",
   "metadata": {},
   "outputs": [
    {
     "name": "stdout",
     "output_type": "stream",
     "text": [
      "[[14 13 12 11]\n",
      " [10  9  8  7]\n",
      " [ 6  5  4  3]]\n",
      "[[11 12 13 14]\n",
      " [ 7  8  9 10]\n",
      " [ 3  4  5  6]]\n"
     ]
    }
   ],
   "source": [
    "a = np.arange(14, 2, -1).reshape(3, 4)\n",
    "print(a)\n",
    "print(np.sort(a)) # array里面也可以像list一样排序，但是要注意的是针对row进行排序"
   ]
  },
  {
   "cell_type": "code",
   "execution_count": 54,
   "id": "5c0ac436",
   "metadata": {},
   "outputs": [
    {
     "name": "stdout",
     "output_type": "stream",
     "text": [
      "[[14 10  6]\n",
      " [13  9  5]\n",
      " [12  8  4]\n",
      " [11  7  3]]\n",
      "[[14 10  6]\n",
      " [13  9  5]\n",
      " [12  8  4]\n",
      " [11  7  3]]\n"
     ]
    }
   ],
   "source": [
    "print(a.transpose()) # 转置也是有的\n",
    "print(a.T) # 更方便更贴近数学的表达形式"
   ]
  },
  {
   "cell_type": "code",
   "execution_count": 56,
   "id": "ed23f640",
   "metadata": {},
   "outputs": [
    {
     "data": {
      "text/plain": [
       "array([[9, 9, 9, 9],\n",
       "       [9, 9, 8, 7],\n",
       "       [6, 5, 5, 5]])"
      ]
     },
     "execution_count": 56,
     "metadata": {},
     "output_type": "execute_result"
    }
   ],
   "source": [
    "np.clip(a, 5, 9)\n",
    "# 感觉这也是一种切片操作\n",
    "\n",
    "# clip(Array, Array_min, Array_max)\n",
    "# 将Array_min < X < Array_max X表示矩阵A中的数，如果满足上述关系，则原数不变。\n",
    "# 否则，如果X < Array_min，则将矩阵中X变为Array_min;\n",
    "# 如果X > Array_max，则将矩阵中X变为Array_max."
   ]
  },
  {
   "cell_type": "code",
   "execution_count": 12,
   "id": "73073269",
   "metadata": {},
   "outputs": [
    {
     "name": "stdout",
     "output_type": "stream",
     "text": [
      "[ 3  4  5  6  7  8  9 10 11 12 13 14]\n",
      "6\n",
      "[[ 3  4  5  6]\n",
      " [ 7  8  9 10]\n",
      " [11 12 13 14]]\n",
      "[11 12 13 14]\n",
      "5\n",
      "5\n",
      "[8 9]\n"
     ]
    }
   ],
   "source": [
    "# 4.1array索引和切片\n",
    "import numpy as np\n",
    "a = np.arange(3, 15)\n",
    "print(a)\n",
    "print(a[3])\n",
    "b = a.reshape(3, 4)\n",
    "print(b)\n",
    "print(b[2])\n",
    "print(b[0][2])\n",
    "print(b[0, 2]) # 这两个东西是等价的，和R里面的逻辑基本上是完全一样的，除了python是0开始\n",
    "print(b[1, 1:3])"
   ]
  },
  {
   "cell_type": "code",
   "execution_count": 15,
   "id": "3ed83fa3",
   "metadata": {},
   "outputs": [
    {
     "name": "stdout",
     "output_type": "stream",
     "text": [
      "[3 4 5 6]\n",
      "[ 7  8  9 10]\n",
      "[11 12 13 14]\n",
      "[ 3  7 11]\n",
      "[ 4  8 12]\n",
      "[ 5  9 13]\n",
      "[ 6 10 14]\n"
     ]
    }
   ],
   "source": [
    "for row in b:\n",
    "    print(row) # 因为是通过list来构造的，所以只能实现打印rows\n",
    "# 如果想要打印col，通过转置就可以实现了\n",
    "for col in b.T:\n",
    "    print(col)"
   ]
  },
  {
   "cell_type": "code",
   "execution_count": 17,
   "id": "426766e2",
   "metadata": {},
   "outputs": [
    {
     "name": "stdout",
     "output_type": "stream",
     "text": [
      "[[ 3  4  5  6]\n",
      " [ 7  8  9 10]\n",
      " [11 12 13 14]]\n",
      "[ 3  4  5  6  7  8  9 10 11 12 13 14]\n"
     ]
    }
   ],
   "source": [
    "# 通过flatten这个迭代器，还可以实现多维转一维，其实这里的底层函数代码也不难写，确实是迭代器的原理\n",
    "a = np.arange(3, 15).reshape(3, 4)\n",
    "print(a)\n",
    "b = a.flatten()\n",
    "print(b)"
   ]
  },
  {
   "cell_type": "code",
   "execution_count": 21,
   "id": "5a11cb3f",
   "metadata": {},
   "outputs": [
    {
     "name": "stdout",
     "output_type": "stream",
     "text": [
      "[[ 0  1  2  3  4  5]\n",
      " [ 6  7  8  9 10 11]\n",
      " [12 13 14 15 16 17]\n",
      " [18 19 20 21 22 23]\n",
      " [24 25 26 27 28 29]\n",
      " [30 31 32 33 34 35]]\n"
     ]
    },
    {
     "data": {
      "text/plain": [
       "array([ 1,  8, 15])"
      ]
     },
     "execution_count": 21,
     "metadata": {},
     "output_type": "execute_result"
    }
   ],
   "source": [
    "a = np.arange(0, 36).reshape(6, 6)\n",
    "print(a)\n",
    "a[(0, 1, 2), (1, 2, 3)] # 注意这种切片方式，本质上仍然是前面是行后面是列，但是通过列表的形式实现多对的一一对应\n",
    "# 所以实际上在切片的时候向row/col index中传入一个变量也是可以的，只需要注意能对应上就好"
   ]
  },
  {
   "cell_type": "code",
   "execution_count": 29,
   "id": "c1040ccb",
   "metadata": {},
   "outputs": [
    {
     "name": "stdout",
     "output_type": "stream",
     "text": [
      "[[1 2 3]\n",
      " [4 5 6]]\n",
      "[1 2 3 4 5 6]\n",
      "(3,) (3,) (2, 3)\n"
     ]
    }
   ],
   "source": [
    "# 5.1array的合并操作\n",
    "a = np.array([1, 2, 3])\n",
    "b = np.array([4, 5, 6])\n",
    "c = np.vstack((a, b)) # 看这两个合并函数的参数形式，其实可以发现，他们实际上是一个reshape函数\n",
    "# 所以要求两个括号，其实是用来构造一个大的array\n",
    "d = np.hstack((a, b))\n",
    "print(c)\n",
    "print(d)\n",
    "print(np.shape(a), np.shape(b), np.shape(c)) # 可以发现，对一维array显示shape并不是按照dim来显示，而是只显示一个size\n",
    "# 因为对于一维矩阵来说，python默认还认为他们是一个数组，一维的对象，自然也不会像矩阵一样显示dim信息"
   ]
  },
  {
   "cell_type": "code",
   "execution_count": 38,
   "id": "49d97454",
   "metadata": {},
   "outputs": [
    {
     "name": "stdout",
     "output_type": "stream",
     "text": [
      "[1 2 3]\n",
      "[[1 2 3]]\n",
      "(3,) (1, 3)\n",
      "[[1]\n",
      " [2]\n",
      " [3]]\n"
     ]
    }
   ],
   "source": [
    "# 由于python认为是一维的，所以a.T这种转置的方法也是不能用的，需要用其他的方法\n",
    "a = np.array([1, 2, 3])\n",
    "print(a)\n",
    "print(a[np.newaxis, :])\n",
    "print(np.shape(a), np.shape(a[np.newaxis, :])) # 可以发现，这里就被转化成了一个(1,3)的矩阵\n",
    "# np.newaxis这个函数的意思就是，在它所在的位置创建一个新的维度（被视为矩阵的一个维度）\n",
    "# 在这个例子中，就是在a的行的位置生成了一个维度，然后再用：把a所有的元素扔进去，这样就生成了一个(1,3)的矩阵\n",
    "print(a[:, np.newaxis]) # 生成转置的列也是一样的道理"
   ]
  },
  {
   "cell_type": "code",
   "execution_count": 56,
   "id": "8f11fbe2",
   "metadata": {},
   "outputs": [
    {
     "name": "stdout",
     "output_type": "stream",
     "text": [
      "[[1 2 3 4 5 6 1 2 3]\n",
      " [1 2 3 4 5 6 1 2 3]] (2, 9)\n",
      "[1 2 3 4 5 6 1 2 3] (9,)\n",
      "[[1 2 3 4 5 6]] (1, 6)\n"
     ]
    }
   ],
   "source": [
    "a = np.arange(1, 4)\n",
    "b = np.arange(4, 7)\n",
    "c = np.hstack((a, b, a))\n",
    "d = np.stack((c, c))\n",
    "print(d, np.shape(d))\n",
    "print(c, np.shape(c)) # 前面介绍了用stack来进行合并\n",
    "a = a[np.newaxis, :]\n",
    "b = b[np.newaxis, :]\n",
    "c = np.concatenate((a, b), axis = 1)\n",
    "print(c, np.shape(c))\n",
    "# 目前感觉stack/concatenate这两个函数的差别并不是很大\n",
    "# 唯一一个差别就是，使用concatenate来进行合并的时候需要先转换成矩阵"
   ]
  },
  {
   "cell_type": "code",
   "execution_count": 59,
   "id": "a9732e34",
   "metadata": {},
   "outputs": [
    {
     "name": "stdout",
     "output_type": "stream",
     "text": [
      "[[ 0  1  2  3]\n",
      " [ 4  5  6  7]\n",
      " [ 8  9 10 11]]\n"
     ]
    }
   ],
   "source": [
    "# 6.1array的分隔\n",
    "a = np.arange(12).reshape(3, 4)\n",
    "print(a)"
   ]
  },
  {
   "cell_type": "code",
   "execution_count": 64,
   "id": "dcca04bb",
   "metadata": {},
   "outputs": [
    {
     "name": "stdout",
     "output_type": "stream",
     "text": [
      "[array([[0, 1],\n",
      "       [4, 5],\n",
      "       [8, 9]]), array([[ 2,  3],\n",
      "       [ 6,  7],\n",
      "       [10, 11]])]\n",
      "[[0 1]\n",
      " [4 5]\n",
      " [8 9]]\n",
      "[array([[0, 1, 2, 3]]), array([[4, 5, 6, 7]]), array([[ 8,  9, 10, 11]])]\n"
     ]
    }
   ],
   "source": [
    "print(np.split(a, 2, axis = 1))\n",
    "# np.split一共三个参数，前两个十分容易理解，第三个表示切割的方向，在这个例子中是1，表示横向从左到右去切割，等于是竖着来一刀\n",
    "print(np.split(a, 2, axis = 1)[0]) # 再用索引切片就可以取出切出来的东西\n",
    "print(np.split(a, 3, axis = 0)) # 这样就是竖向进行切割，横着来一刀\n",
    "# 这里是平分切割的情况"
   ]
  },
  {
   "cell_type": "code",
   "execution_count": 66,
   "id": "336f457a",
   "metadata": {},
   "outputs": [
    {
     "name": "stdout",
     "output_type": "stream",
     "text": [
      "[array([[0, 1, 2, 3],\n",
      "       [4, 5, 6, 7]]), array([[ 8,  9, 10, 11]])]\n"
     ]
    }
   ],
   "source": [
    "# 当打算不均匀的切割的时候，需要使用np.array_split\n",
    "print(np.array_split(a, 2, axis = 0))"
   ]
  },
  {
   "cell_type": "code",
   "execution_count": 69,
   "id": "444d7392",
   "metadata": {},
   "outputs": [
    {
     "name": "stdout",
     "output_type": "stream",
     "text": [
      "[0 1 2 3]\n"
     ]
    }
   ],
   "source": [
    "# 7.1arraycopy和=\n",
    "a = np.arange(0, 4)\n",
    "print(a)"
   ]
  },
  {
   "cell_type": "code",
   "execution_count": 72,
   "id": "85c81411",
   "metadata": {},
   "outputs": [
    {
     "name": "stdout",
     "output_type": "stream",
     "text": [
      "[11  1  2  3]\n",
      "[11  1  2  3]\n",
      "[11  1  2  3]\n",
      "[11  1  2  3] [11  1  2  3] [11  1  2  3]\n"
     ]
    }
   ],
   "source": [
    "b = a\n",
    "print(b)\n",
    "c = a\n",
    "print(c)\n",
    "d = b\n",
    "print(d)\n",
    "a[0] = 11\n",
    "print(b, c, d) # 可以发现，当a的值发生改变之后，会产生连坐"
   ]
  },
  {
   "cell_type": "code",
   "execution_count": 74,
   "id": "ca171784",
   "metadata": {},
   "outputs": [
    {
     "name": "stdout",
     "output_type": "stream",
     "text": [
      "[11 22 33  3] [11 22 33  3] [11 22 33  3]\n"
     ]
    }
   ],
   "source": [
    "d[1:3] = [22, 33]\n",
    "print(a, b, c) # 后面的d改变，也会产生连坐"
   ]
  },
  {
   "cell_type": "code",
   "execution_count": 77,
   "id": "0eddee6c",
   "metadata": {},
   "outputs": [
    {
     "name": "stdout",
     "output_type": "stream",
     "text": [
      "[19  1  2  3] [0 1 2 3]\n"
     ]
    }
   ],
   "source": [
    "a = np.arange(0, 4)\n",
    "b = np.copy(a)\n",
    "a[0] = 19\n",
    "print(a, b) # 用copy函数来赋值，就不会产生连坐效应"
   ]
  },
  {
   "cell_type": "code",
   "execution_count": 80,
   "id": "cfa7a3f5",
   "metadata": {},
   "outputs": [
    {
     "name": "stdout",
     "output_type": "stream",
     "text": [
      "[[2 4 6 8]\n",
      " [2 4 6 8]\n",
      " [2 4 6 8]\n",
      " [2 4 6 8]]\n"
     ]
    }
   ],
   "source": [
    "# 8.1广播机制\n",
    "# numpy数组间的基础运算是一对一，也就是a.shape == b.shape，但是当两者不一样的时候，就会自动触发广播机制，如下例子：\n",
    "a = np.array([\n",
    "    [1, 2, 3, 4],\n",
    "    [1, 2, 3, 4],\n",
    "    [1, 2, 3, 4],\n",
    "    [1, 2, 3, 4]\n",
    "])\n",
    "b = np.array([1, 2, 3, 4])\n",
    "print(a+b) # 按道理来说是不能相加的，但是python的处理方法就像是，直接把b重复了几遍然后相加了\n",
    "# 当两个矩阵/一维数组的维度不一样时没，python会自动的将其重复补全，如果补全后能够吻合，那么就会进行相加\n",
    "# 最极端的例子是(4,1)+(1,4)这两个矩阵居然能相加"
   ]
  },
  {
   "cell_type": "code",
   "execution_count": 84,
   "id": "5c92e328",
   "metadata": {},
   "outputs": [
    {
     "data": {
      "text/plain": [
       "array([ 0.1, -0.6,  0.5,  1.3,  1. ,  0. ,  0. ])"
      ]
     },
     "execution_count": 84,
     "metadata": {},
     "output_type": "execute_result"
    }
   ],
   "source": [
    "# 9.1常用函数\n",
    "# np.bincount(x)\n",
    "x = np.array([1, 2, 3, 3, 0, 1, 4])\n",
    "np.bincount(x) # 这里其实是将x中的元素从小到大排序后，求他们出现的次数\n",
    "w = np.array([0.3,0.5,0.7,0.6,0.1,-0.9,1])\n",
    "np.bincount(x,weights=w) # 可以设置weights参数，其中元素个数与x中元素个数是对应的，并且相应的权重也是对应的\n",
    "# 比如1这个元素，在x中[0][5]出现了，如果没设置weights那么得到的结果就是2\n",
    "# 设置weights后，在weights[0][5]对应的是0.3和-0.9，那么1得到的结果就是0.3-0.9\n",
    "np.bincount(x,weights=w,minlength=7) # 还可以设置minlength这个函数\n",
    "# minlength会设定bincount结果的最小长度，这里只有5位，但是我们设置了7个，那么多出来的就会直接用0.进行补位"
   ]
  },
  {
   "cell_type": "code",
   "execution_count": 88,
   "id": "acb1aed7",
   "metadata": {},
   "outputs": [
    {
     "name": "stdout",
     "output_type": "stream",
     "text": [
      "3\n",
      "1\n",
      "1\n"
     ]
    }
   ],
   "source": [
    "# np.argmax()\n",
    "x = [[1,3,3],\n",
    "     [7,5,2]]\n",
    "print(np.argmax(x)) # 要注意的是argmax返回的索引是按照从小到大排序过后的索引\n",
    "x = np.array([1, 3, 2, 3, 0, 1, 0])\n",
    "print(x.argmax()) # 如果重复碰到相同的max，就会返回第一个碰到的索引\n",
    "x = [[1,7,3],\n",
    "     [7,5,2]]\n",
    "print(np.argmax(x)) # 结合一下，如果出现相同的最大数，则不会进行从小到大排序，直接返回第一个的索引，比如这里结果是1"
   ]
  },
  {
   "cell_type": "code",
   "execution_count": 90,
   "id": "a6abc755",
   "metadata": {},
   "outputs": [
    {
     "data": {
      "text/plain": [
       "array([  0,   0,   0,   0, 100, 200])"
      ]
     },
     "execution_count": 90,
     "metadata": {},
     "output_type": "execute_result"
    }
   ],
   "source": [
    "# np.around，四舍五入函数\n",
    "np.around([-0.6,1.2798,2.357,9.67,13], decimals=0) # 负数会自动进位取绝对值更大的\n",
    "# 当decimals为非负数的时候，四舍五入的时候是包括5的\n",
    "# 而当decimals为负数的时候\n",
    "np.around([1,2,5,6,56], decimals=-1) # 表示看一位数决定是否进位，也就是个位数，此时不包括5\n",
    "np.around([1,2,5,50,56,190], decimals=-2) # 看两位数，十位和各位，也就是十位个位必须超过50，进退位则是在百位进行"
   ]
  },
  {
   "cell_type": "code",
   "execution_count": 94,
   "id": "e063340f",
   "metadata": {},
   "outputs": [
    {
     "name": "stdout",
     "output_type": "stream",
     "text": [
      "[[ 1  0]\n",
      " [ 2 -2]\n",
      " [-2  1]]\n"
     ]
    },
    {
     "data": {
      "text/plain": [
       "array([[1, 0],\n",
       "       [2, 0],\n",
       "       [0, 1]])"
      ]
     },
     "execution_count": 94,
     "metadata": {},
     "output_type": "execute_result"
    }
   ],
   "source": [
    "# np.where\n",
    "x = np.array([[1, 0],\n",
    "       [2, -2],\n",
    "     [-2, 1]])\n",
    "print(x)\n",
    "\n",
    "np.where(x > 0, x, 0)\n",
    "# np.where一共三个参数，第一个是判断值，第二个是条件成立时返回的值，第三个则是条件不成立时返回的值\n",
    "# np.where可以很方便的实现替换"
   ]
  },
  {
   "cell_type": "code",
   "execution_count": 96,
   "id": "bc36a432",
   "metadata": {},
   "outputs": [
    {
     "data": {
      "text/plain": [
       "array([ 2.,  2.,  2.,  3.,  2., -0., -0., -0.])"
      ]
     },
     "execution_count": 96,
     "metadata": {},
     "output_type": "execute_result"
    }
   ],
   "source": [
    "# np.celi/floor\n",
    "np.floor([-0.6,-1.4,-0.1,-1.8,0,1.4,1.7]) # 向左取整\n",
    "np.ceil([1.2,1.5,1.8,2.1,2.0,-0.5,-0.6,-0.3]) # 取最小整数"
   ]
  },
  {
   "cell_type": "code",
   "execution_count": null,
   "id": "f6f68856",
   "metadata": {},
   "outputs": [],
   "source": []
  }
 ],
 "metadata": {
  "kernelspec": {
   "display_name": "Python 3 (ipykernel)",
   "language": "python",
   "name": "python3"
  },
  "language_info": {
   "codemirror_mode": {
    "name": "ipython",
    "version": 3
   },
   "file_extension": ".py",
   "mimetype": "text/x-python",
   "name": "python",
   "nbconvert_exporter": "python",
   "pygments_lexer": "ipython3",
   "version": "3.9.13"
  }
 },
 "nbformat": 4,
 "nbformat_minor": 5
}
