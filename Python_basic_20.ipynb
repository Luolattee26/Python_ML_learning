{
 "cells": [
  {
   "cell_type": "code",
   "execution_count": 12,
   "id": "e59b1eb8",
   "metadata": {},
   "outputs": [
    {
     "name": "stdout",
     "output_type": "stream",
     "text": [
      "请输入需要的数字：7\n",
      "[0, 7]\n"
     ]
    }
   ],
   "source": [
    "# 20.1\n",
    "class seven_number:\n",
    "    \n",
    "    def num_input(self):\n",
    "        n = input(\"请输入需要的数字：\")\n",
    "        return n\n",
    "\n",
    "\n",
    "    def generator(self, n):\n",
    "        out_lst = []\n",
    "        for i in range(int(n)+1):\n",
    "            if i%7 == 0:\n",
    "                out_lst.append(i)\n",
    "        print(out_lst)\n",
    "        \n",
    "        \n",
    "if __name__ == '__main__':\n",
    "    num = seven_number()\n",
    "    n = num.num_input()\n",
    "    num.generator(n)"
   ]
  },
  {
   "cell_type": "code",
   "execution_count": 23,
   "id": "1ddd59ca",
   "metadata": {},
   "outputs": [
    {
     "name": "stdout",
     "output_type": "stream",
     "text": [
      "请输入指令：UP 5\n",
      "请输入指令：DOWN 3\n",
      "请输入指令：LEFT 3\n",
      "请输入指令：RIGHT 2\n",
      "请输入指令：\n",
      "['UP 5', 'DOWN 3', 'LEFT 3', 'RIGHT 2']\n",
      "[5, -3, 3, -2]\n",
      "2\n"
     ]
    }
   ],
   "source": [
    "# 21.1\n",
    "class robot_walk:\n",
    "    \n",
    "    def command_input(self):\n",
    "        command_lst = []\n",
    "        while True:\n",
    "            str_input = input('请输入指令：')\n",
    "            if len(str_input) <= 1:\n",
    "                break\n",
    "            command_lst.append(str_input)\n",
    "        return command_lst\n",
    "    \n",
    "    \n",
    "    def nomalization(self, command_lst):\n",
    "        command_nomalized = [0, 0, 0, 0]\n",
    "        for i in command_lst:\n",
    "            if i[0] == 'U' or i[0] == 'u':\n",
    "                command_nomalized[0] += int(i[-1])\n",
    "            if i[0] == 'D' or i[0] == 'd':\n",
    "                command_nomalized[1] += -int(i[-1])\n",
    "            if i[0] == 'L' or i[0] == 'l':\n",
    "                command_nomalized[2] += int(i[-1])\n",
    "            if i[0] == 'R' or i[0] == 'r':\n",
    "                command_nomalized[3] += -int(i[-1])\n",
    "        return command_nomalized\n",
    "    \n",
    "    \n",
    "    def walk(self, nomalized_command):\n",
    "        final_location = [0, 0]\n",
    "        for i in nomalized_command[0:2]:\n",
    "            final_location[1] += int(i)\n",
    "        for i in nomalized_command[2:4]:\n",
    "            final_location[0] += int(i)\n",
    "        dis = int((int(final_location[0])**2+int(final_location[1])**2)**0.5)\n",
    "        print('最终距离是', dis)\n",
    "    \n",
    "    \n",
    "if __name__ == '__main__':\n",
    "    robot = robot_walk()\n",
    "    lst1 = robot.command_input()\n",
    "    lst2 = robot.nomalization(lst1)\n",
    "    robot.walk(lst2)\n"
   ]
  },
  {
   "cell_type": "code",
   "execution_count": 28,
   "id": "64266efb",
   "metadata": {},
   "outputs": [
    {
     "name": "stdout",
     "output_type": "stream",
     "text": [
      "请输入想要检测的句子：New to Python or choosing between Python 2 and Python 3? Read Python 2 or Python 3.\n",
      "2 : 2\n",
      "3. : 1\n",
      "3? : 1\n",
      "New : 1\n",
      "Python : 5\n",
      "Read : 1\n",
      "and : 1\n",
      "between : 1\n",
      "choosing : 1\n",
      "or : 2\n",
      "to : 1\n"
     ]
    }
   ],
   "source": [
    "# 22.1\n",
    "class word_prob:\n",
    "    \n",
    "    def string_input(self):\n",
    "        str1 = input('请输入想要检测的句子：')\n",
    "        string_split = str1.split(' ')\n",
    "        return string_split\n",
    "    \n",
    "    \n",
    "    def set_build(self, string_split):\n",
    "        word_set = sorted(set(string_split))\n",
    "        return word_set\n",
    "    \n",
    "    \n",
    "    def frequence(self, word_set, string_split):\n",
    "        frequnce = []\n",
    "        for i in word_set:\n",
    "            count = 0\n",
    "            for j in string_split:\n",
    "                if i == j:\n",
    "                    count += 1\n",
    "            frequnce.append(count)\n",
    "        return frequnce\n",
    "        \n",
    "        \n",
    "    def output(self, word_set, frequnce):\n",
    "        for i in range(len(word_set)):\n",
    "            print(word_set[i], ':', frequnce[i])\n",
    "        \n",
    "        \n",
    "if __name__ == '__main__':\n",
    "    prob = word_prob()\n",
    "    lst1 = prob.string_input()\n",
    "    set1 = prob.set_build(lst1)\n",
    "    fre1 = prob.frequence(set1, lst1)\n",
    "    prob.output(set1, fre1)"
   ]
  },
  {
   "cell_type": "code",
   "execution_count": 29,
   "id": "c093df5f",
   "metadata": {},
   "outputs": [
    {
     "name": "stdout",
     "output_type": "stream",
     "text": [
      "New to Python or choosing between Python 2 and Python 3? Read Python 2 or Python 3.\n",
      "2:2\n",
      "3.:1\n",
      "3?:1\n",
      "New:1\n",
      "Python:5\n",
      "Read:1\n",
      "and:1\n",
      "between:1\n",
      "choosing:1\n",
      "or:2\n",
      "to:1\n"
     ]
    }
   ],
   "source": [
    "# 22.2\n",
    "from collections import Counter\n",
    "\n",
    "ss = input().split()\n",
    "ss = Counter(ss)         # returns key & frequency as a dictionary\n",
    "ss = sorted(ss.items())  # returns as a tuple list\n",
    "\n",
    "for i in ss:\n",
    "    print(\"%s:%d\" % (i[0],i[1]))"
   ]
  },
  {
   "cell_type": "code",
   "execution_count": 30,
   "id": "805551c5",
   "metadata": {},
   "outputs": [
    {
     "name": "stdout",
     "output_type": "stream",
     "text": [
      "New to Python or choosing between Python 2 and Python 3? Read Python 2 or Python 3.\n",
      "{'2': 2,\n",
      " '3.': 1,\n",
      " '3?': 1,\n",
      " 'New': 1,\n",
      " 'Python': 5,\n",
      " 'Read': 1,\n",
      " 'and': 1,\n",
      " 'between': 1,\n",
      " 'choosing': 1,\n",
      " 'or': 2,\n",
      " 'to': 1}\n"
     ]
    }
   ],
   "source": [
    "# 22.3\n",
    "# 这里用的pprint也是一种输出函数\n",
    "# 可以输出更加漂亮的结果\n",
    "# 还有列表的count方法也值得注意\n",
    "from pprint import pprint\n",
    "p = input().split()\n",
    "pprint({i:p.count(i) for i in p})"
   ]
  },
  {
   "cell_type": "code",
   "execution_count": 34,
   "id": "c456ec9c",
   "metadata": {},
   "outputs": [
    {
     "name": "stdout",
     "output_type": "stream",
     "text": [
      "输入要平方的数字:4\n",
      "16\n"
     ]
    }
   ],
   "source": [
    "# 23.1\n",
    "def square(n):\n",
    "    print(int(n)**2)\n",
    "    \n",
    "\n",
    "if __name__ == '__main__':\n",
    "    square(input('输入要平方的数字:'))\n",
    "    "
   ]
  },
  {
   "cell_type": "code",
   "execution_count": 35,
   "id": "cd2465bc",
   "metadata": {},
   "outputs": [
    {
     "name": "stdout",
     "output_type": "stream",
     "text": [
      "Return the absolute value of the argument.\n",
      "int([x]) -> integer\n",
      "int(x, base=10) -> integer\n",
      "\n",
      "Convert a number or string to an integer, or return 0 if no arguments\n",
      "are given.  If x is a number, return x.__int__().  For floating point\n",
      "numbers, this truncates towards zero.\n",
      "\n",
      "If x is not a number or if base is given, then x must be a string,\n",
      "bytes, or bytearray instance representing an integer literal in the\n",
      "given base.  The literal can be preceded by '+' or '-' and be surrounded\n",
      "by whitespace.  The base defaults to 10.  Valid bases are 0 and 2-36.\n",
      "Base 0 means to interpret the base from the string as an integer literal.\n",
      ">>> int('0b100', base=0)\n",
      "4\n",
      "\n",
      "    a is num 1,b is num 2,this function will output num1+2\n",
      "    \n",
      "5\n"
     ]
    }
   ],
   "source": [
    "# 24.1\n",
    "# 这题是例题，教怎么给函数写说明__doc__\n",
    "print(abs.__doc__)\n",
    "print(int.__doc__)\n",
    "\n",
    "def doc_test(a,b):\n",
    "    \"\"\"\n",
    "    a is num 1,b is num 2,this function will output num1+2\n",
    "    \"\"\"\n",
    "    print(a+b)\n",
    "    \n",
    "\n",
    "if __name__ == \"__main__\":\n",
    "    print(doc_test.__doc__)\n",
    "    doc_test(2, 3)"
   ]
  },
  {
   "cell_type": "code",
   "execution_count": 41,
   "id": "4b2f314d",
   "metadata": {},
   "outputs": [
    {
     "name": "stdout",
     "output_type": "stream",
     "text": [
      "Car name is Honda\n",
      "Car name is Toyota\n",
      "Car name is None\n",
      "Car name is BMW\n"
     ]
    }
   ],
   "source": [
    "# 25.1\n",
    "# 例题，完全不会\n",
    "# 关于class的类变量和实例变量\n",
    "# 类变量：是可在类的所有实例之间共享的值（也就是说，它们不是单独分配给每个实例的）\n",
    "# 实例变量：实例化之后，每个实例单独拥有的变量。\n",
    "# 所以实例变量必须要在__init__中写出来\n",
    "class Car:\n",
    "    name = \"Car\" # 这是类变量\n",
    "\n",
    "    def __init__(self,name = None): # 比如这里的，是实例变量\n",
    "        self.name = name\n",
    "\n",
    "honda=Car(\"Honda\")\n",
    "print(\"%s name is %s\"%(Car.name,honda.name)) # 第一个Car.name是类变量，并不会随着不同实例而改变，所以还是“Car”\n",
    "# 第二个honda.name则是Car这个class的实例，当honda=Car(\"Honda\")时，“Honda”就传入了这个实例中，并且执行了下面的self.name = name\n",
    "# 这里的self，指的就是实例本身\n",
    "toyota=Car() # 在这里，则是在构建实例的时候没有传入任何参数，如果将上方的 = None 删去则会报错\n",
    "# 这是因为当没有传入相关的实例变量时，需要一个默认值让函数来执行\n",
    "toyota.name=\"Toyota\" # 因为构建实例的时候没有传入参数，所以现在手动进行变量赋值\n",
    "print(\"%s name is %s\"%(Car.name,toyota.name))\n",
    "# 可以来验证一下\n",
    "BMW = Car()\n",
    "print(\"%s name is %s\"%(Car.name,BMW.name)) # Car name is None\n",
    "BMW.name = 'BMW'\n",
    "print('%s name is %s' % (Car.name, BMW.name)) # Car name is BMW"
   ]
  },
  {
   "cell_type": "code",
   "execution_count": null,
   "id": "cd2359b5",
   "metadata": {},
   "outputs": [],
   "source": []
  },
  {
   "cell_type": "code",
   "execution_count": null,
   "id": "89fea7c0",
   "metadata": {},
   "outputs": [],
   "source": []
  }
 ],
 "metadata": {
  "kernelspec": {
   "display_name": "Python 3 (ipykernel)",
   "language": "python",
   "name": "python3"
  },
  "language_info": {
   "codemirror_mode": {
    "name": "ipython",
    "version": 3
   },
   "file_extension": ".py",
   "mimetype": "text/x-python",
   "name": "python",
   "nbconvert_exporter": "python",
   "pygments_lexer": "ipython3",
   "version": "3.9.13"
  }
 },
 "nbformat": 4,
 "nbformat_minor": 5
}
