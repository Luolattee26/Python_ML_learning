{
 "cells": [
  {
   "cell_type": "code",
   "execution_count": 12,
   "id": "e59b1eb8",
   "metadata": {},
   "outputs": [
    {
     "name": "stdout",
     "output_type": "stream",
     "text": [
      "请输入需要的数字：7\n",
      "[0, 7]\n"
     ]
    }
   ],
   "source": [
    "# 20.1\n",
    "class seven_number:\n",
    "    \n",
    "    def num_input(self):\n",
    "        n = input(\"请输入需要的数字：\")\n",
    "        return n\n",
    "\n",
    "\n",
    "    def generator(self, n):\n",
    "        out_lst = []\n",
    "        for i in range(int(n)+1):\n",
    "            if i%7 == 0:\n",
    "                out_lst.append(i)\n",
    "        print(out_lst)\n",
    "        \n",
    "        \n",
    "if __name__ == '__main__':\n",
    "    num = seven_number()\n",
    "    n = num.num_input()\n",
    "    num.generator(n)"
   ]
  },
  {
   "cell_type": "code",
   "execution_count": 23,
   "id": "1ddd59ca",
   "metadata": {},
   "outputs": [
    {
     "name": "stdout",
     "output_type": "stream",
     "text": [
      "请输入指令：UP 5\n",
      "请输入指令：DOWN 3\n",
      "请输入指令：LEFT 3\n",
      "请输入指令：RIGHT 2\n",
      "请输入指令：\n",
      "['UP 5', 'DOWN 3', 'LEFT 3', 'RIGHT 2']\n",
      "[5, -3, 3, -2]\n",
      "2\n"
     ]
    }
   ],
   "source": [
    "# 21.1\n",
    "class robot_walk:\n",
    "    \n",
    "    def command_input(self):\n",
    "        command_lst = []\n",
    "        while True:\n",
    "            str_input = input('请输入指令：')\n",
    "            if len(str_input) <= 1:\n",
    "                break\n",
    "            command_lst.append(str_input)\n",
    "        return command_lst\n",
    "    \n",
    "    \n",
    "    def nomalization(self, command_lst):\n",
    "        command_nomalized = [0, 0, 0, 0]\n",
    "        for i in command_lst:\n",
    "            if i[0] == 'U' or i[0] == 'u':\n",
    "                command_nomalized[0] += int(i[-1])\n",
    "            if i[0] == 'D' or i[0] == 'd':\n",
    "                command_nomalized[1] += -int(i[-1])\n",
    "            if i[0] == 'L' or i[0] == 'l':\n",
    "                command_nomalized[2] += int(i[-1])\n",
    "            if i[0] == 'R' or i[0] == 'r':\n",
    "                command_nomalized[3] += -int(i[-1])\n",
    "        return command_nomalized\n",
    "    \n",
    "    \n",
    "    def walk(self, nomalized_command):\n",
    "        final_location = [0, 0]\n",
    "        for i in nomalized_command[0:2]:\n",
    "            final_location[1] += int(i)\n",
    "        for i in nomalized_command[2:4]:\n",
    "            final_location[0] += int(i)\n",
    "        dis = int((int(final_location[0])**2+int(final_location[1])**2)**0.5)\n",
    "        print('最终距离是', dis)\n",
    "    \n",
    "    \n",
    "if __name__ == '__main__':\n",
    "    robot = robot_walk()\n",
    "    lst1 = robot.command_input()\n",
    "    lst2 = robot.nomalization(lst1)\n",
    "    robot.walk(lst2)\n"
   ]
  },
  {
   "cell_type": "code",
   "execution_count": null,
   "id": "64266efb",
   "metadata": {},
   "outputs": [],
   "source": []
  },
  {
   "cell_type": "code",
   "execution_count": null,
   "id": "c093df5f",
   "metadata": {},
   "outputs": [],
   "source": []
  },
  {
   "cell_type": "code",
   "execution_count": null,
   "id": "805551c5",
   "metadata": {},
   "outputs": [],
   "source": []
  },
  {
   "cell_type": "code",
   "execution_count": null,
   "id": "c456ec9c",
   "metadata": {},
   "outputs": [],
   "source": []
  },
  {
   "cell_type": "code",
   "execution_count": null,
   "id": "cd2465bc",
   "metadata": {},
   "outputs": [],
   "source": []
  },
  {
   "cell_type": "code",
   "execution_count": null,
   "id": "4b2f314d",
   "metadata": {},
   "outputs": [],
   "source": []
  },
  {
   "cell_type": "code",
   "execution_count": null,
   "id": "cd2359b5",
   "metadata": {},
   "outputs": [],
   "source": []
  },
  {
   "cell_type": "code",
   "execution_count": null,
   "id": "89fea7c0",
   "metadata": {},
   "outputs": [],
   "source": []
  }
 ],
 "metadata": {
  "kernelspec": {
   "display_name": "Python 3 (ipykernel)",
   "language": "python",
   "name": "python3"
  },
  "language_info": {
   "codemirror_mode": {
    "name": "ipython",
    "version": 3
   },
   "file_extension": ".py",
   "mimetype": "text/x-python",
   "name": "python",
   "nbconvert_exporter": "python",
   "pygments_lexer": "ipython3",
   "version": "3.9.12"
  }
 },
 "nbformat": 4,
 "nbformat_minor": 5
}
