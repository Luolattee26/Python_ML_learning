{
 "cells": [
  {
   "cell_type": "code",
   "execution_count": 1,
   "id": "7d97bf46",
   "metadata": {
    "ExecuteTime": {
     "end_time": "2023-03-10T07:00:08.986625Z",
     "start_time": "2023-03-10T07:00:08.970982Z"
    }
   },
   "outputs": [],
   "source": [
    "# pandas和numpy是同一类东西，并且pandas就是根据numpy增强过来的"
   ]
  },
  {
   "cell_type": "code",
   "execution_count": 6,
   "id": "af23335b",
   "metadata": {
    "ExecuteTime": {
     "end_time": "2023-03-10T07:02:09.879359Z",
     "start_time": "2023-03-10T07:02:09.869409Z"
    }
   },
   "outputs": [],
   "source": [
    "# 1 serise\n",
    "import numpy as np\n",
    "import pandas as pd"
   ]
  },
  {
   "cell_type": "code",
   "execution_count": 9,
   "id": "9ff09f7a",
   "metadata": {
    "ExecuteTime": {
     "end_time": "2023-03-10T07:04:40.410232Z",
     "start_time": "2023-03-10T07:04:40.384687Z"
    }
   },
   "outputs": [
    {
     "name": "stdout",
     "output_type": "stream",
     "text": [
      "0     1.0\n",
      "1     4.0\n",
      "2     9.0\n",
      "3    10.0\n",
      "4     NaN\n",
      "5    17.0\n",
      "6    19.0\n",
      "dtype: float64\n",
      "0     1.0\n",
      "1     4.0\n",
      "3     9.0\n",
      "2    10.0\n",
      "4     NaN\n",
      "5    17.0\n",
      "6    19.0\n",
      "dtype: float64\n"
     ]
    }
   ],
   "source": [
    "s = pd.Series([1, 4, 9, 10, np.nan, 17, 19])\n",
    "print(s) # 这个的逻辑和np中的array很像，但是可以发现生成的是一个类似dataframe的东西\n",
    "# 还可以设置按照一定的顺序来设置index\n",
    "s = pd.Series([1, 4, 9, 10, np.nan, 17, 19], index = [0, 1, 3, 2, 4, 5, 6])\n",
    "print(s) # 这里生成的index就变成了0132......"
   ]
  },
  {
   "cell_type": "code",
   "execution_count": 10,
   "id": "3e59aa81",
   "metadata": {
    "ExecuteTime": {
     "end_time": "2023-03-10T07:05:07.449393Z",
     "start_time": "2023-03-10T07:05:07.441489Z"
    }
   },
   "outputs": [],
   "source": [
    "# 2 dataframe\n",
    "import numpy as np\n",
    "import pandas as pd"
   ]
  },
  {
   "cell_type": "code",
   "execution_count": 13,
   "id": "1c0cfb90",
   "metadata": {
    "ExecuteTime": {
     "end_time": "2023-03-10T07:14:44.962271Z",
     "start_time": "2023-03-10T07:14:44.936981Z"
    }
   },
   "outputs": [
    {
     "name": "stdout",
     "output_type": "stream",
     "text": [
      "DatetimeIndex(['2019-09-01', '2019-09-02', '2019-09-03', '2019-09-04',\n",
      "               '2019-09-05', '2019-09-06'],\n",
      "              dtype='datetime64[ns]', freq='D')\n",
      "                   a         b         c         d\n",
      "2019-09-01  0.908085  0.085429 -0.843988 -0.077573\n",
      "2019-09-02 -0.956124  2.428495  1.619161  1.987077\n",
      "2019-09-03 -1.172393  0.435914  0.151615 -0.088322\n",
      "2019-09-04 -1.235969  1.406406  0.369150 -0.523410\n",
      "2019-09-05 -0.456220  0.352788  0.896289 -0.518285\n",
      "2019-09-06 -1.556286  0.074998  1.145605 -1.072741\n"
     ]
    }
   ],
   "source": [
    "datas = pd.date_range('2019.09.01', periods = 6)\n",
    "print(datas) # pd.date_range这个函数是专门用来生成时间序列的\n",
    "# pd.date_range(start, end, period, freq)等参数\n",
    "df = pd.DataFrame(np.random.randn(6, 4), index = datas, columns = ['a', 'b', 'c', 'd'])\n",
    "print(df) # 可以发现pd里面dataframe的构造方法和R里面是十分十分相似的\n",
    "# np.random.randn(6, 4)函数是在正态总体里面生成一个size为24的样本\n",
    "# np.random.rand(6, 4)函数则是在(0,1)区间里面生成样本\n",
    "# 两个函数都是生成一定size的"
   ]
  },
  {
   "cell_type": "code",
   "execution_count": 19,
   "id": "8338c1d7",
   "metadata": {
    "ExecuteTime": {
     "end_time": "2023-03-10T07:19:53.049112Z",
     "start_time": "2023-03-10T07:19:53.025174Z"
    }
   },
   "outputs": [
    {
     "name": "stdout",
     "output_type": "stream",
     "text": [
      "2019-09-01    0.085429\n",
      "2019-09-02    2.428495\n",
      "2019-09-03    0.435914\n",
      "2019-09-04    1.406406\n",
      "2019-09-05    0.352788\n",
      "2019-09-06    0.074998\n",
      "Freq: D, Name: b, dtype: float64\n",
      "   0  1   2   3\n",
      "0  0  1   2   3\n",
      "1  4  5   6   7\n",
      "2  8  9  10  11\n"
     ]
    }
   ],
   "source": [
    "print(df['b']) # 索引方式也和R是一模一样的\n",
    "# 如果没有制定row和col，那就会默认使用从0开始的index\n",
    "df1 = pd.DataFrame(np.arange(0, 12).reshape(3, 4))\n",
    "print(df1)"
   ]
  },
  {
   "cell_type": "code",
   "execution_count": 28,
   "id": "ad04b3c3",
   "metadata": {
    "ExecuteTime": {
     "end_time": "2023-03-10T07:26:13.690590Z",
     "start_time": "2023-03-10T07:26:13.560754Z"
    }
   },
   "outputs": [
    {
     "name": "stdout",
     "output_type": "stream",
     "text": [
      "   A          B     C  D      E    F\n",
      "0  1 2018-08-19   1.0  3   test  foo\n",
      "1  2 2018-08-19   6.0  3  train  foo\n",
      "2  3 2018-08-19   9.0  3   test  foo\n",
      "3  4 2018-08-19  10.0  3  train  foo\n",
      "RangeIndex(start=0, stop=4, step=1)\n",
      "Index(['A', 'B', 'C', 'D', 'E', 'F'], dtype='object')\n",
      "[[1 Timestamp('2018-08-19 00:00:00') 1.0 3 'test' 'foo']\n",
      " [2 Timestamp('2018-08-19 00:00:00') 6.0 3 'train' 'foo']\n",
      " [3 Timestamp('2018-08-19 00:00:00') 9.0 3 'test' 'foo']\n",
      " [4 Timestamp('2018-08-19 00:00:00') 10.0 3 'train' 'foo']]\n",
      "              A          C    D\n",
      "count  4.000000   4.000000  4.0\n",
      "mean   2.500000   6.500000  3.0\n",
      "std    1.290994   4.041452  0.0\n",
      "min    1.000000   1.000000  3.0\n",
      "25%    1.750000   4.750000  3.0\n",
      "50%    2.500000   7.500000  3.0\n",
      "75%    3.250000   9.250000  3.0\n",
      "max    4.000000  10.000000  3.0\n",
      "                     0                    1                    2  \\\n",
      "A                    1                    2                    3   \n",
      "B  2018-08-19 00:00:00  2018-08-19 00:00:00  2018-08-19 00:00:00   \n",
      "C                  1.0                  6.0                  9.0   \n",
      "D                    3                    3                    3   \n",
      "E                 test                train                 test   \n",
      "F                  foo                  foo                  foo   \n",
      "\n",
      "                     3  \n",
      "A                    4  \n",
      "B  2018-08-19 00:00:00  \n",
      "C                 10.0  \n",
      "D                    3  \n",
      "E                train  \n",
      "F                  foo  \n",
      "   A          B     C  D      E    F\n",
      "0  1 2018-08-19   1.0  3   test  foo\n",
      "1  2 2018-08-19   6.0  3  train  foo\n",
      "2  3 2018-08-19   9.0  3   test  foo\n",
      "3  4 2018-08-19  10.0  3  train  foo\n",
      "   A          B     C  D      E    F\n",
      "3  4 2018-08-19  10.0  3  train  foo\n",
      "2  3 2018-08-19   9.0  3   test  foo\n",
      "1  2 2018-08-19   6.0  3  train  foo\n",
      "0  1 2018-08-19   1.0  3   test  foo\n"
     ]
    }
   ],
   "source": [
    "# 也有和R中一样的类似于赋值的dataframe生成方式\n",
    "df2 = pd.DataFrame({\n",
    "    'A': [1,2,3,4],\n",
    "    'B': pd.Timestamp('20180819'),\n",
    "    'C': pd.Series([1,6,9,10],dtype='float32'),\n",
    "    'D': np.array([3] * 4,dtype='int32'),\n",
    "    'E': pd.Categorical(['test','train','test','train']),\n",
    "    'F': 'foo'\n",
    "})\n",
    "print(df2)\n",
    "print(df2.index) # 这里只是将row换了个说法叫index\n",
    "print(df2.columns)\n",
    "print(df2.values) # 按照每个index输出每行的value情况\n",
    "print(df2.describe()) # 和R中完全一样\n",
    "print(df2.T) # 从np中集成过来\n",
    "print(df2.sort_index(axis = 1, ascending = True)) # 对整体进行排序操作\n",
    "print(df2.sort_values(by = 'C', ascending = False)) # 对我们指定的某一列进行排序"
   ]
  },
  {
   "cell_type": "code",
   "execution_count": 29,
   "id": "e52f7dc5",
   "metadata": {
    "ExecuteTime": {
     "end_time": "2023-03-10T07:48:14.338907Z",
     "start_time": "2023-03-10T07:48:14.330564Z"
    }
   },
   "outputs": [],
   "source": [
    "# 3 pandas数据筛选\n",
    "import numpy as np\n",
    "import pandas as pd"
   ]
  },
  {
   "cell_type": "code",
   "execution_count": 31,
   "id": "adb7624a",
   "metadata": {
    "ExecuteTime": {
     "end_time": "2023-03-10T07:50:18.624425Z",
     "start_time": "2023-03-10T07:50:18.610582Z"
    }
   },
   "outputs": [
    {
     "name": "stdout",
     "output_type": "stream",
     "text": [
      "             A   B   C   D\n",
      "2018-08-09   0   1   2   3\n",
      "2018-08-10   4   5   6   7\n",
      "2018-08-11   8   9  10  11\n",
      "2018-08-12  12  13  14  15\n",
      "2018-08-13  16  17  18  19\n",
      "2018-08-14  20  21  22  23\n"
     ]
    }
   ],
   "source": [
    "dates = pd.date_range('20180809', periods = 6)\n",
    "df = pd.DataFrame(np.arange(0, 24).reshape(6, 4), index = dates, columns = ['A', 'B', 'C', 'D'])\n",
    "print(df)"
   ]
  },
  {
   "cell_type": "code",
   "execution_count": 36,
   "id": "adfb39f1",
   "metadata": {
    "ExecuteTime": {
     "end_time": "2023-03-10T07:54:15.424672Z",
     "start_time": "2023-03-10T07:54:15.398163Z"
    }
   },
   "outputs": [
    {
     "name": "stdout",
     "output_type": "stream",
     "text": [
      "2018-08-09     0\n",
      "2018-08-10     4\n",
      "2018-08-11     8\n",
      "2018-08-12    12\n",
      "2018-08-13    16\n",
      "2018-08-14    20\n",
      "Freq: D, Name: A, dtype: int64 2018-08-09     0\n",
      "2018-08-10     4\n",
      "2018-08-11     8\n",
      "2018-08-12    12\n",
      "2018-08-13    16\n",
      "2018-08-14    20\n",
      "Freq: D, Name: A, dtype: int64\n",
      "            A  B   C   D\n",
      "2018-08-09  0  1   2   3\n",
      "2018-08-10  4  5   6   7\n",
      "2018-08-11  8  9  10  11\n",
      "Empty DataFrame\n",
      "Columns: [A, B, C, D]\n",
      "Index: []\n"
     ]
    }
   ],
   "source": [
    "# 取某一列数据\n",
    "print(df.A, df['A'])\n",
    "# 用index取某行的数据\n",
    "print(df[0:3])"
   ]
  },
  {
   "cell_type": "code",
   "execution_count": 42,
   "id": "d48e9775",
   "metadata": {
    "ExecuteTime": {
     "end_time": "2023-03-10T07:56:45.638666Z",
     "start_time": "2023-03-10T07:56:45.622116Z"
    }
   },
   "outputs": [
    {
     "name": "stdout",
     "output_type": "stream",
     "text": [
      "            A  B  C  D\n",
      "2018-08-09  0  1  2  3\n",
      "A    0\n",
      "B    1\n",
      "C    2\n",
      "D    3\n",
      "Name: 2018-08-09 00:00:00, dtype: int64\n"
     ]
    }
   ],
   "source": [
    "print(df['2018-08-09':'2018-08-09']) # 通过这样可以取特定的行\n",
    "# 根据index去寻找特定行\n",
    "print(df.loc['2018-08-09']) # 这样会返回这一行的所有元素对应关系"
   ]
  },
  {
   "cell_type": "code",
   "execution_count": 49,
   "id": "c8f6c1b9",
   "metadata": {
    "ExecuteTime": {
     "end_time": "2023-03-10T08:08:25.379925Z",
     "start_time": "2023-03-10T08:08:25.362614Z"
    }
   },
   "outputs": [
    {
     "name": "stdout",
     "output_type": "stream",
     "text": [
      "             A   B\n",
      "2018-08-09   0   1\n",
      "2018-08-10   4   5\n",
      "2018-08-11   8   9\n",
      "2018-08-12  12  13\n",
      "2018-08-13  16  17\n",
      "2018-08-14  20  21\n",
      "             A   B\n",
      "2018-08-09   0   1\n",
      "2018-08-10   4   5\n",
      "2018-08-11   8   9\n",
      "2018-08-12  12  13\n",
      "2018-08-13  16  17\n",
      "2018-08-14  20  21\n",
      "A    0\n",
      "C    2\n",
      "Name: 2018-08-09 00:00:00, dtype: int64\n"
     ]
    }
   ],
   "source": [
    "# de.loc其实接收的是两个参数，分别代表行和列\n",
    "# 比如我们需要对列进行筛选的话\n",
    "print(df.loc[:, ['A','B']])\n",
    "print(df.loc[:, 'A':'B']) # 这两种方法是等价的，但是用列表形式输入的可以选择不相邻的列\n",
    "# 可以发现，列参数能够省略，但是行参数不可以省略\n",
    "print(df.loc['2018-08-09', ['A', 'C']]) # 同时对行和列进行筛选"
   ]
  },
  {
   "cell_type": "code",
   "execution_count": 56,
   "id": "fb572b64",
   "metadata": {
    "ExecuteTime": {
     "end_time": "2023-03-10T08:11:20.100151Z",
     "start_time": "2023-03-10T08:11:20.086356Z"
    }
   },
   "outputs": [
    {
     "name": "stdout",
     "output_type": "stream",
     "text": [
      "13\n",
      "             B   C\n",
      "2018-08-12  13  14\n",
      "2018-08-13  17  18\n",
      "             B   C\n",
      "2018-08-10   5   6\n",
      "2018-08-12  13  14\n",
      "2018-08-14  21  22\n"
     ]
    }
   ],
   "source": [
    "# 相似的，也有df.iloc，是针对index来进行查找的\n",
    "print(df.iloc[3, 1])\n",
    "print(df.iloc[3:5, 1:3]) # 可以发现这个和python里面非常多东西都是相似的，只能取到下界\n",
    "print(df.iloc[[1, 3, 5], 1:3]) # 都是相似的操作逻辑"
   ]
  },
  {
   "cell_type": "code",
   "execution_count": 58,
   "id": "e1d692a1",
   "metadata": {
    "ExecuteTime": {
     "end_time": "2023-03-10T08:12:25.994451Z",
     "start_time": "2023-03-10T08:12:25.985504Z"
    }
   },
   "outputs": [],
   "source": [
    "# 也可以使用df.ix来进行混合筛选\n",
    "# 好像现在没有ix这个东西了"
   ]
  },
  {
   "cell_type": "code",
   "execution_count": 62,
   "id": "4c67af0f",
   "metadata": {
    "ExecuteTime": {
     "end_time": "2023-03-10T08:16:05.172449Z",
     "start_time": "2023-03-10T08:16:05.151190Z"
    }
   },
   "outputs": [
    {
     "name": "stdout",
     "output_type": "stream",
     "text": [
      "             A   B   C   D\n",
      "2018-08-09   0   1   2   3\n",
      "2018-08-10   4   5   6   7\n",
      "2018-08-11   8   9  10  11\n",
      "2018-08-12  12  13  14  15\n",
      "2018-08-13  16  17  18  19\n",
      "2018-08-14  20  21  22  23\n",
      "               A     B     C     D\n",
      "2018-08-09   NaN   NaN   NaN   NaN\n",
      "2018-08-10   NaN   NaN   NaN   NaN\n",
      "2018-08-11   NaN   9.0  10.0  11.0\n",
      "2018-08-12  12.0  13.0  14.0  15.0\n",
      "2018-08-13  16.0  17.0  18.0  19.0\n",
      "2018-08-14  20.0  21.0  22.0  23.0\n"
     ]
    }
   ],
   "source": [
    "# 和R里面相似的，也可以通过逻辑值来判断\n",
    "print(df)\n",
    "print(df[df > 8])"
   ]
  },
  {
   "cell_type": "code",
   "execution_count": 30,
   "id": "31bfa2a7",
   "metadata": {
    "ExecuteTime": {
     "end_time": "2023-03-11T03:09:52.932973Z",
     "start_time": "2023-03-11T03:09:52.926969Z"
    }
   },
   "outputs": [],
   "source": [
    "# 4 pandas设置值\n",
    "import numpy as np\n",
    "import pandas as pd"
   ]
  },
  {
   "cell_type": "code",
   "execution_count": 31,
   "id": "3f924014",
   "metadata": {
    "ExecuteTime": {
     "end_time": "2023-03-11T03:09:53.702779Z",
     "start_time": "2023-03-11T03:09:53.689489Z"
    }
   },
   "outputs": [
    {
     "name": "stdout",
     "output_type": "stream",
     "text": [
      "             A   B   C   D\n",
      "2018-08-20   0   1   2   3\n",
      "2018-08-21   4   5   6   7\n",
      "2018-08-22   8   9  10  11\n",
      "2018-08-23  12  13  14  15\n",
      "2018-08-24  16  17  18  19\n",
      "2018-08-25  20  21  22  23\n"
     ]
    }
   ],
   "source": [
    "dates = pd.date_range('20180820', periods = 6)\n",
    "df = pd.DataFrame(np.arange(24).reshape(6, 4), index = dates, columns = ['A', 'B', 'C', 'D'])\n",
    "print(df)"
   ]
  },
  {
   "cell_type": "code",
   "execution_count": 32,
   "id": "8094323a",
   "metadata": {
    "ExecuteTime": {
     "end_time": "2023-03-11T03:09:54.739626Z",
     "start_time": "2023-03-11T03:09:54.701166Z"
    }
   },
   "outputs": [
    {
     "name": "stdout",
     "output_type": "stream",
     "text": [
      "             A     B    C   D\n",
      "2018-08-20   0     1    2   3\n",
      "2018-08-21   4  2222    6   7\n",
      "2018-08-22   8     9  111  11\n",
      "2018-08-23  12    13   14  15\n",
      "2018-08-24  16    17   18  19\n",
      "2018-08-25  20    21   22  23\n",
      "             A     B    C   D\n",
      "2018-08-20   0     1    2   3\n",
      "2018-08-21   4  2222    6   7\n",
      "2018-08-22   8     0  111  11\n",
      "2018-08-23  12     0   14  15\n",
      "2018-08-24  16     0   18  19\n",
      "2018-08-25  20     0   22  23\n",
      "             A     B    C   D   F\n",
      "2018-08-20   0     1    2   3 NaN\n",
      "2018-08-21   4  2222    6   7 NaN\n",
      "2018-08-22   8     0  111  11 NaN\n",
      "2018-08-23  12     0   14  15 NaN\n",
      "2018-08-24  16     0   18  19 NaN\n",
      "2018-08-25  20     0   22  23 NaN\n"
     ]
    }
   ],
   "source": [
    "# 前面提到的iloc/loc，和R中一样的，可以用来进行dataframe的元素赋值操作\n",
    "df.iloc[2, 2] = 111\n",
    "df.loc['2018-08-21', 'B'] = 2222\n",
    "print(df)\n",
    "# 也可以根据条件进行赋值，其实就是从上面的筛选的逻辑来进行的\n",
    "df.B[df.A > 4] = 0\n",
    "print(df)\n",
    "# 按照行列来进行设置\n",
    "df['F'] = np.nan # 这种方法只能用来筛选列\n",
    "print(df) # 这种方法也可以新增一行或者一列"
   ]
  },
  {
   "cell_type": "code",
   "execution_count": 33,
   "id": "edf1bd74",
   "metadata": {
    "ExecuteTime": {
     "end_time": "2023-03-11T03:09:57.395540Z",
     "start_time": "2023-03-11T03:09:57.363326Z"
    }
   },
   "outputs": [
    {
     "name": "stdout",
     "output_type": "stream",
     "text": [
      "             A     B    C   D   F  E\n",
      "2018-08-20   0     1    2   3 NaN  1\n",
      "2018-08-21   4  2222    6   7 NaN  2\n",
      "2018-08-22   8     0  111  11 NaN  3\n",
      "2018-08-23  12     0   14  15 NaN  4\n",
      "2018-08-24  16     0   18  19 NaN  5\n",
      "2018-08-25  20     0   22  23 NaN  6\n"
     ]
    }
   ],
   "source": [
    "# 添加一列特定的序列，也是一样的道理\n",
    "# 当然数量是要对齐的\n",
    "df['E'] = pd.Series([1, 2, 3, 4, 5, 6], index = pd.date_range('20180820', periods = 6))\n",
    "print(df)"
   ]
  },
  {
   "cell_type": "code",
   "execution_count": 43,
   "id": "e733dec4",
   "metadata": {
    "ExecuteTime": {
     "end_time": "2023-03-11T03:12:59.537167Z",
     "start_time": "2023-03-11T03:12:59.494965Z"
    }
   },
   "outputs": [
    {
     "name": "stdout",
     "output_type": "stream",
     "text": [
      "               A    B      C     D   F    E\n",
      "2018-08-20   0.0  1.0    2.0   3.0 NaN  1.0\n",
      "2018-08-21   NaN  NaN    NaN   NaN NaN  NaN\n",
      "2018-08-22   8.0  0.0  111.0  11.0 NaN  3.0\n",
      "2018-08-23  12.0  0.0   14.0  15.0 NaN  4.0\n",
      "2018-08-24  16.0  0.0   18.0  19.0 NaN  5.0\n",
      "2018-08-25  20.0  0.0   22.0  23.0 NaN  6.0\n",
      "               A    B      C     D   F    E\n",
      "2018-08-20   0.0  1.0    2.0   3.0 NaN  1.0\n",
      "2018-08-21   NaN  NaN    NaN   NaN NaN  NaN\n",
      "2018-08-22   8.0  0.0  111.0  11.0 NaN  3.0\n",
      "2018-08-23  12.0  0.0   14.0  15.0 NaN  4.0\n",
      "2018-08-24  16.0  0.0   18.0  19.0 NaN  5.0\n",
      "2018-08-25  20.0  0.0   22.0  23.0 NaN  6.0\n",
      "               A    B      C     D   F    E\n",
      "2018-08-20   0.0  1.0    2.0   3.0 NaN  1.0\n",
      "2018-08-21   NaN  NaN    NaN   NaN NaN  NaN\n",
      "2018-08-22   8.0  0.0  111.0  11.0 NaN  3.0\n",
      "2018-08-23  12.0  0.0   14.0  15.0 NaN  4.0\n",
      "2018-08-24  16.0  0.0   18.0  19.0 NaN  5.0\n",
      "2018-08-25  20.0  0.0   22.0  23.0 NaN  6.0\n",
      "               A    B      C     D   F    E\n",
      "2018-08-20   0.0  1.0    2.0   3.0 NaN  1.0\n",
      "2018-08-21   NaN  NaN    NaN   NaN NaN  NaN\n",
      "2018-08-22   8.0  0.0  111.0  11.0 NaN  3.0\n",
      "2018-08-23  12.0  0.0   14.0  15.0 NaN  4.0\n",
      "2018-08-24  16.0  0.0   18.0  19.0 NaN  5.0\n",
      "2018-08-25  20.0  0.0   22.0  23.0 NaN  6.0\n"
     ]
    }
   ],
   "source": [
    "# 如果需要修改一整行的数据，还是直接用index或者loc/iloc比较方便\n",
    "print(df)\n",
    "df[1:2] = np.nan # 注意切片操作的逻辑，半开半闭区间\n",
    "print(df)\n",
    "df.iloc[1] = np.nan\n",
    "print(df)\n",
    "df.loc['2018-08-21'] = np.nan\n",
    "print(df)"
   ]
  },
  {
   "cell_type": "code",
   "execution_count": 44,
   "id": "988e6750",
   "metadata": {
    "ExecuteTime": {
     "end_time": "2023-03-11T03:14:34.413430Z",
     "start_time": "2023-03-11T03:14:34.406799Z"
    }
   },
   "outputs": [],
   "source": [
    "# 5 pandas处理丢失的数据\n",
    "import numpy as np\n",
    "import pandas as pd"
   ]
  },
  {
   "cell_type": "code",
   "execution_count": 50,
   "id": "3ee41862",
   "metadata": {
    "ExecuteTime": {
     "end_time": "2023-03-11T03:20:13.898165Z",
     "start_time": "2023-03-11T03:20:13.876168Z"
    }
   },
   "outputs": [
    {
     "name": "stdout",
     "output_type": "stream",
     "text": [
      "             A   B   C   D\n",
      "2018-08-20   0   1   2   3\n",
      "2018-08-21   4   5   6   7\n",
      "2018-08-22   8   9  10  11\n",
      "2018-08-23  12  13  14  15\n",
      "2018-08-24  16  17  18  19\n",
      "2018-08-25  20  21  22  23\n",
      "             A     B     C   D\n",
      "2018-08-20   0   NaN   2.0   3\n",
      "2018-08-21   4   5.0   NaN   7\n",
      "2018-08-22   8   9.0  10.0  11\n",
      "2018-08-23  12  13.0  14.0  15\n",
      "2018-08-24  16  17.0  18.0  19\n",
      "2018-08-25  20  21.0  22.0  23\n"
     ]
    }
   ],
   "source": [
    "dates = pd.date_range('20180820', periods = 6)\n",
    "df = pd.DataFrame(np.arange(24).reshape((6, 4)), index = dates, columns=['A', 'B', 'C', 'D']) \n",
    "print(df)\n",
    "df.iloc[0, 1] = np.nan\n",
    "df.iloc[1 ,2] = np.nan\n",
    "print(df)"
   ]
  },
  {
   "cell_type": "code",
   "execution_count": 56,
   "id": "f1ab4ca0",
   "metadata": {
    "ExecuteTime": {
     "end_time": "2023-03-11T03:27:24.198050Z",
     "start_time": "2023-03-11T03:27:24.180768Z"
    }
   },
   "outputs": [
    {
     "name": "stdout",
     "output_type": "stream",
     "text": [
      "             A     B     C   D\n",
      "2018-08-22   8   9.0  10.0  11\n",
      "2018-08-23  12  13.0  14.0  15\n",
      "2018-08-24  16  17.0  18.0  19\n",
      "2018-08-25  20  21.0  22.0  23\n",
      "             A   D\n",
      "2018-08-20   0   3\n",
      "2018-08-21   4   7\n",
      "2018-08-22   8  11\n",
      "2018-08-23  12  15\n",
      "2018-08-24  16  19\n",
      "2018-08-25  20  23\n"
     ]
    }
   ],
   "source": [
    "print(df.dropna()) # 默认是drop含有NA的行\n",
    "print(df.dropna(\n",
    "    axis = 1,\n",
    "    how = 'any'\n",
    ")) # 1对列进行操作，any表示只要含有NA就删除，而all则是全部是NA才删除\n",
    "# 这地方的axis和np里面是反着来的"
   ]
  },
  {
   "cell_type": "code",
   "execution_count": 63,
   "id": "888722d0",
   "metadata": {
    "ExecuteTime": {
     "end_time": "2023-03-11T03:33:42.800294Z",
     "start_time": "2023-03-11T03:33:42.772444Z"
    }
   },
   "outputs": [
    {
     "name": "stdout",
     "output_type": "stream",
     "text": [
      "             A     B     C   D\n",
      "2018-08-20   0  19.0   2.0   3\n",
      "2018-08-21   4   5.0  19.0   7\n",
      "2018-08-22   8   9.0  10.0  11\n",
      "2018-08-23  12  13.0  14.0  15\n",
      "2018-08-24  16  17.0  18.0  19\n",
      "2018-08-25  20  21.0  22.0  23\n",
      "                A      B      C      D\n",
      "2018-08-20  False   True  False  False\n",
      "2018-08-21  False  False   True  False\n",
      "2018-08-22  False  False  False  False\n",
      "2018-08-23  False  False  False  False\n",
      "2018-08-24  False  False  False  False\n",
      "2018-08-25  False  False  False  False\n",
      "                A      B      C      D\n",
      "2018-08-20  False   True  False  False\n",
      "2018-08-21  False  False   True  False\n",
      "2018-08-22  False  False  False  False\n",
      "2018-08-23  False  False  False  False\n",
      "2018-08-24  False  False  False  False\n",
      "2018-08-25  False  False  False  False\n",
      "A    False\n",
      "B     True\n",
      "C     True\n",
      "D    False\n",
      "dtype: bool\n",
      "True\n"
     ]
    }
   ],
   "source": [
    "# 对NA进行替换\n",
    "print(df.fillna(19))\n",
    "# 检测NA或者NULL\n",
    "print(df.isnull())\n",
    "print(df.isna())\n",
    "# 也可以加上any()，用来对某一列检测\n",
    "print(df.isna().any()) # 返回的是ABCD四列的检测结果\n",
    "# 检测整个数据中是否含有NA\n",
    "print(np.any(df.isna() == True))"
   ]
  },
  {
   "cell_type": "code",
   "execution_count": 64,
   "id": "84ed8175",
   "metadata": {
    "ExecuteTime": {
     "end_time": "2023-03-11T03:38:39.460595Z",
     "start_time": "2023-03-11T03:38:39.454347Z"
    }
   },
   "outputs": [],
   "source": [
    "# 6 pandas数据的导入导出\n",
    "import pandas"
   ]
  },
  {
   "cell_type": "code",
   "execution_count": 78,
   "id": "9972cffd",
   "metadata": {
    "ExecuteTime": {
     "end_time": "2023-03-11T03:44:41.523628Z",
     "start_time": "2023-03-11T03:44:41.419663Z"
    }
   },
   "outputs": [
    {
     "name": "stdout",
     "output_type": "stream",
     "text": [
      "                                         0\n",
      "0   HGLibA_00001,GTCGCTGAGCTCCGATTCGA,A1BG\n",
      "1   HGLibA_00002,ACCTGTAGTTGCCGGCGTGC,A1BG\n",
      "2   HGLibA_00003,CGTCAGCGTCACATTGGCCA,A1BG\n",
      "3   HGLibA_00004,CGCGCACTGGTCCAGCGCAC,A1CF\n",
      "4   HGLibA_00005,CCAAGCTATATCCTGTGCGC,A1CF\n",
      "5   HGLibA_00006,AAGTTGCTTGATTGCATTCT,A1CF\n",
      "6    HGLibA_00007,CGCTTCTTAAATTCTTGGGT,A2M\n",
      "7    HGLibA_00008,TCACAGCGAAGGCGACACAG,A2M\n",
      "8    HGLibA_00009,CAAACTCCTTCATCCAAGTC,A2M\n",
      "9  HGLibA_00010,AAATTTCCCCTCCGTTCAGA,A2ML1\n",
      "                                                       0\n",
      "65373  HGLibA_65374,GCCCCGCCGCCCTCCCCTCC,NonTargeting...\n",
      "65374  HGLibA_65375,AAAGAAAGAGGAATAGTAGC,NonTargeting...\n",
      "65375  HGLibA_65376,GAGAAGTGGGGAGCCATTGG,NonTargeting...\n",
      "65376  HGLibA_65377,AGAAGAAAAAAATGTCTACG,NonTargeting...\n",
      "65377  HGLibA_65378,GACTGAAATCCAAGGACTGT,NonTargeting...\n",
      "65378  HGLibA_65379,ATATTTTATGACATAAAAAT,NonTargeting...\n",
      "65379  HGLibA_65380,TAAACAAAAAGGAAATAGTT,NonTargeting...\n",
      "65380  HGLibA_65381,TTTCCCATGATCATTTAGTG,NonTargeting...\n",
      "65381  HGLibA_65382,CTGAGTGAAAAATAAAAGTT,NonTargeting...\n",
      "65382  HGLibA_65383,GACAATCATGGTGAAAGCGG,NonTargeting...\n"
     ]
    }
   ],
   "source": [
    "data = pd.read_csv('../lung_PTX/Human_GeCKOv2_Library_A_3_mageck.csv', sep = '\\t', header = None)\n",
    "# 要注意这里的header并不是和R里面一样的bool，而是指定某一行作为header，输入None和一个数字\n",
    "print(data.head(10))\n",
    "print(data.tail(10))"
   ]
  },
  {
   "cell_type": "code",
   "execution_count": 80,
   "id": "e4017331",
   "metadata": {
    "ExecuteTime": {
     "end_time": "2023-03-11T03:47:19.018121Z",
     "start_time": "2023-03-11T03:47:18.986217Z"
    }
   },
   "outputs": [],
   "source": [
    "# 导出数据\n",
    "data.to_pickle('./pandas_test.pickle')\n",
    "# Python 中有个序列化过程叫作 pickle，它能够实现任意对象与文本之间的相互转化，\n",
    "# 也可以实现任意对象与二进制之间的相互转化。也就是说，pickle 可以实现 Python 对象的存储及恢复。\n",
    "# 简而言之，是个很牛逼的数据格式\n",
    "# 当然导出成为csv之类的也是可以的"
   ]
  },
  {
   "cell_type": "code",
   "execution_count": 82,
   "id": "dd55dc5c",
   "metadata": {
    "ExecuteTime": {
     "end_time": "2023-03-11T03:48:35.407732Z",
     "start_time": "2023-03-11T03:48:35.400198Z"
    }
   },
   "outputs": [],
   "source": [
    "# 7 合并操作\n",
    "import numpy as np\n",
    "import pandas as pd"
   ]
  },
  {
   "cell_type": "code",
   "execution_count": null,
   "id": "27e51140",
   "metadata": {},
   "outputs": [],
   "source": []
  },
  {
   "cell_type": "code",
   "execution_count": null,
   "id": "386046dd",
   "metadata": {},
   "outputs": [],
   "source": []
  },
  {
   "cell_type": "code",
   "execution_count": null,
   "id": "093824da",
   "metadata": {},
   "outputs": [],
   "source": []
  },
  {
   "cell_type": "code",
   "execution_count": null,
   "id": "c739c00e",
   "metadata": {},
   "outputs": [],
   "source": []
  },
  {
   "cell_type": "code",
   "execution_count": null,
   "id": "82c7530b",
   "metadata": {},
   "outputs": [],
   "source": []
  }
 ],
 "metadata": {
  "kernelspec": {
   "display_name": "Python 3 (ipykernel)",
   "language": "python",
   "name": "python3"
  },
  "language_info": {
   "codemirror_mode": {
    "name": "ipython",
    "version": 3
   },
   "file_extension": ".py",
   "mimetype": "text/x-python",
   "name": "python",
   "nbconvert_exporter": "python",
   "pygments_lexer": "ipython3",
   "version": "3.9.13"
  }
 },
 "nbformat": 4,
 "nbformat_minor": 5
}
